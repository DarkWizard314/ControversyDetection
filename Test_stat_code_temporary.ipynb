{
 "cells": [
  {
   "cell_type": "code",
   "execution_count": 1,
   "metadata": {},
   "outputs": [
    {
     "name": "stdout",
     "output_type": "stream",
     "text": [
      "[1630, 1630, 58541, 18714, 18714, 193]\n",
      "Chars: 3130928\n",
      "Lemmas: 624357\n",
      "Lines: 624357\n",
      "Chars per Word: 5.014643865608939\n",
      "Lemmas per story: 383.04110429447854\n"
     ]
    }
   ],
   "source": [
    "def countString(string = [\"<story>\", \"</story>\", \"</s>\", \"<turn>\", \"</turn>\", \"Trump\"]):\n",
    "\n",
    "    file  = open('one_day.txt', 'r').read()\n",
    "    countList = []\n",
    "    for x in string:\n",
    "        countList.append(file.count(x))\n",
    "    return countList\n",
    "\n",
    "print(countString())\n",
    "\n",
    "stop_chars = ['<', '>', '(', ')', '?', ':', ';', ',', '.', '!', '/', '\"', \"'\", \"...\",\n",
    "           \"``\", \"&apos\", \"&apos;s\", \"&apos;&apos;\"]\n",
    "with open('one_day.txt') as oldfile, open('one_day_new.xml', 'w') as newfile:\n",
    "    for line in oldfile:\n",
    "        if not any(stop_char in line for stop_char in stop_chars): # getting rid of the lines with the xml tags\n",
    "            newfile.write(line)\n",
    "\n",
    "\n",
    "filename = \"one_day_new.xml\"\n",
    "\n",
    "num_lines = 0\n",
    "num_lemmas = 0\n",
    "num_chars = 0\n",
    "\n",
    "with open(filename, 'r') as f:\n",
    "    for line in f:\n",
    "        lemmas = line.split()\n",
    "\n",
    "        num_lines += 1\n",
    "        num_lemmas += len(lemmas)\n",
    "        num_chars += len(line)\n",
    "\n",
    "print(\"Chars: {}\\nLemmas: {}\\nLines: {}\".format(num_chars, num_lemmas, num_lines))\n",
    "print(\"Chars per Word: {}\".format(num_chars/num_lemmas))\n",
    "print(\"Lemmas per story: {}\".format(num_lemmas/countString()[0]))\n",
    "\n",
    "\n",
    "\n",
    "\n",
    "\n"
   ]
  },
  {
   "cell_type": "code",
   "execution_count": null,
   "metadata": {
    "collapsed": true
   },
   "outputs": [],
   "source": []
  }
 ],
 "metadata": {
  "kernelspec": {
   "display_name": "Python 3",
   "language": "python",
   "name": "python3"
  },
  "language_info": {
   "codemirror_mode": {
    "name": "ipython",
    "version": 3
   },
   "file_extension": ".py",
   "mimetype": "text/x-python",
   "name": "python",
   "nbconvert_exporter": "python",
   "pygments_lexer": "ipython3",
   "version": "3.5.2"
  }
 },
 "nbformat": 4,
 "nbformat_minor": 2
}
