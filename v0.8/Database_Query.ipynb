{
 "cells": [
  {
   "cell_type": "code",
   "execution_count": 1,
   "metadata": {},
   "outputs": [],
   "source": [
    "import pandas as pd\n",
    "from gensim import corpora, models\n",
    "from gensim.models import Phrases\n",
    "import re\n",
    "\n",
    "df = pd.read_csv(\"January_stories_with_date.csv\", index_col=0)\n"
   ]
  },
  {
   "cell_type": "code",
   "execution_count": 2,
   "metadata": {},
   "outputs": [],
   "source": []
  },
  {
   "cell_type": "code",
   "execution_count": 3,
   "metadata": {},
   "outputs": [
    {
     "name": "stdout",
     "output_type": "stream",
     "text": [
      "42262\n",
      "31791\n"
     ]
    }
   ],
   "source": [
    "lemmas_df = df[df[\"lemmas\"].apply(lambda x: len(eval(x))>=50)] # Getting rid of stories with less than 50 lemmas\n",
    "print(len(df))\n",
    "print(len(lemmas_df))\n"
   ]
  },
  {
   "cell_type": "code",
   "execution_count": 4,
   "metadata": {},
   "outputs": [],
   "source": [
    "new_lemmas_df = lemmas_df.reset_index(drop=True)\n",
    "len(new_lemmas_df)\n",
    "new_lemmas_df['date'] = pd.to_datetime(new_lemmas_df['date'])"
   ]
  },
  {
   "cell_type": "code",
   "execution_count": null,
   "metadata": {},
   "outputs": [],
   "source": [
    "# dates = len(df)*[\"2016-01-01\"]\n",
    "# df['date'] = dates\n",
    "#df['date'] = pd.to_datetime(df['date'])\n",
    "\n",
    "# new_lemmas_df['date'] = pd.to_datetime(new_lemmas_df['date'])\n",
    "# df.loc[df.index.isin(range(41746, 42261)), 'date'] = '2016-01-31'\n",
    "#df.to_csv(\"january_stories_with_date.csv\")\n",
    "#df.loc[42261]\n"
   ]
  },
  {
   "cell_type": "code",
   "execution_count": null,
   "metadata": {},
   "outputs": [],
   "source": [
    "# jan1_jan3_df = new_lemmas_df[new_lemmas_df[\"date\"].isin(pd.date_range(\"2016-01-01\", \"2016-01-03\"))]\n",
    "# len(jan1_jan3_df)\n",
    "# jan1_jan3_df.head(40)"
   ]
  },
  {
   "cell_type": "code",
   "execution_count": null,
   "metadata": {},
   "outputs": [],
   "source": [
    "# jan1_jan3_lemmas = jan1_jan3_df[\"lemmas\"].tolist()\n",
    "# jan1_jan3_new_lemmas = [eval(i) for i in jan1_jan3_lemmas]\n"
   ]
  },
  {
   "cell_type": "code",
   "execution_count": null,
   "metadata": {},
   "outputs": [],
   "source": [
    "# jan1_jan3_dictionary = corpora.Dictionary(jan1_jan3_new_lemmas)\n",
    "# #len(new_dictionary)\n",
    "# corpus = [jan1_jan3_dictionary.doc2bow(story) for story in jan1_jan3_new_lemmas]\n",
    "#len(corpus)"
   ]
  },
  {
   "cell_type": "code",
   "execution_count": 5,
   "metadata": {},
   "outputs": [],
   "source": [
    "def windowLdaModel(day1, day3):\n",
    "    \"\"\"\n",
    "    This function takes two inputs, start date and end date, then it builds an lda model for those days' data and concatenate the lda dataframe with the given\n",
    "    story dataframe\n",
    "    \"\"\"\n",
    "    day1_day3_df = new_lemmas_df[new_lemmas_df[\"date\"].isin(pd.date_range(\"2016-01-%s\" % (day1), \"2016-01-%s\" % (day3)))]\n",
    "    day1_day3_lemmas = day1_day3_df[\"lemmas\"].tolist()\n",
    "    day1_day3_new_lemmas = [eval(i) for i in day1_day3_lemmas]\n",
    "    day1_day3_dictionary = corpora.Dictionary(day1_day3_new_lemmas)\n",
    "    print(\"Dictionary Length: %d\" % len((day1_day3_dictionary)))\n",
    "    corpus = [day1_day3_dictionary.doc2bow(story) for story in day1_day3_new_lemmas]\n",
    "    print(\"Corpus Length: %d\" % (len(corpus)))\n",
    "\n",
    "    tfidf_model = models.TfidfModel(corpus)  # create tf.idf model\n",
    "    # tfidf_model.save(\"tfidf_model\")\n",
    "    tfidf_corpus = tfidf_model[corpus]\n",
    "    num_topics = 100\n",
    "    lda_model = models.ldamodel.LdaModel(corpus=tfidf_corpus, id2word=day1_day3_dictionary, num_topics=num_topics, \n",
    "                                         update_every=0, chunksize=5000, passes=20)\n",
    "    # lda_model.save(\"lda_model\")\n",
    "    lda_corpus = lda_model[tfidf_corpus]\n",
    "    # corpora.MmCorpus.serialize(\"lda_corpus.mm\", lda_corpus)\n",
    "    topics_found_lda = lda_model.print_topics(num_topics=5, num_words=10)\n",
    "    all_topics = lda_model.print_topics(num_topics=100, num_words=10)\n",
    "\n",
    "    topics = 6*[\"n/a\"]\n",
    "    for t in all_topics:\n",
    "        words = re.findall('\"([^\"]+)\"', t[1])\n",
    "        words = ' '.join(words)\n",
    "        topics.append(words)\n",
    "    \n",
    "    lda_df = pd.DataFrame(columns=range(100))    \n",
    "    \n",
    "    for i in range(len(day1_day3_new_lemmas)):\n",
    "        doc = lda_corpus[i]\n",
    "        for top, prob in doc:\n",
    "            lda_df.set_value(i, top, prob)\n",
    "            \n",
    "    print(doc)\n",
    "    print(day1_day3_df.head())\n",
    "    print(lda_df.head())\n",
    "    #day1_day3_df.to_csv(\"testd1d3.csv\")\n",
    "    #lda_df.to_csv(\"ldadf.csv\")\n",
    "    new_day1_day3_df = pd.concat([day1_day3_df, lda_df], axis=1, join='inner')\n",
    "    new_day1_day3_df.loc[-1] = topics\n",
    "    print(new_day1_day3_df.head())\n",
    "    new_day1_day3_df.to_csv(\"%s_%s.csv\" %(day1, day3))\n",
    "    \n",
    "    return (new_day1_day3_df, all_topics)\n"
   ]
  },
  {
   "cell_type": "code",
   "execution_count": null,
   "metadata": {},
   "outputs": [
    {
     "name": "stdout",
     "output_type": "stream",
     "text": [
      "Dictionary Length: 28846\n",
      "Corpus Length: 2283\n"
     ]
    }
   ],
   "source": [
    "%time jan1_jan3_lda_df = windowLdaModel(1, 3)\n",
    "jan1_jan3_df, jan1_jan3_topics = jan1_jan3_lda_df"
   ]
  },
  {
   "cell_type": "code",
   "execution_count": null,
   "metadata": {},
   "outputs": [],
   "source": [
    "%time jan2_jan4_lda_df = windowLdaModel(2, 4)"
   ]
  },
  {
   "cell_type": "code",
   "execution_count": null,
   "metadata": {},
   "outputs": [],
   "source": [
    "%time jan3_jan5_lda_df = windowLdaModel(3, 5)\n",
    "jan3_jan5_df, jan3_jan5_topics = jan3_jan5_lda_df"
   ]
  },
  {
   "cell_type": "code",
   "execution_count": null,
   "metadata": {},
   "outputs": [],
   "source": [
    "%time jan4_jan6_lda_df = windowLdaModel(4, 6)\n",
    "jan4_jan6_df, jan4_jan6_topics = jan4_jan6_lda_df"
   ]
  },
  {
   "cell_type": "code",
   "execution_count": null,
   "metadata": {},
   "outputs": [],
   "source": [
    "%time jan5_jan7_lda_df = windowLdaModel(5, 7)\n",
    "jan5_jan7_df, jan5_jan7_topics = jan5_jan7_lda_df"
   ]
  },
  {
   "cell_type": "code",
   "execution_count": null,
   "metadata": {},
   "outputs": [],
   "source": [
    "%time jan6_jan8_lda_df = windowLdaModel(6, 8)\n",
    "jan6_jan8_df, jan6_jan8_topics = jan6_jan8_lda_df"
   ]
  },
  {
   "cell_type": "code",
   "execution_count": null,
   "metadata": {},
   "outputs": [],
   "source": [
    "#new_jan1_jan3\n"
   ]
  },
  {
   "cell_type": "code",
   "execution_count": null,
   "metadata": {},
   "outputs": [],
   "source": [
    "jan1_jan3_df.tail()"
   ]
  },
  {
   "cell_type": "code",
   "execution_count": null,
   "metadata": {},
   "outputs": [],
   "source": [
    "jan1_jan3_topics[10]"
   ]
  },
  {
   "cell_type": "code",
   "execution_count": null,
   "metadata": {},
   "outputs": [],
   "source": []
  },
  {
   "cell_type": "code",
   "execution_count": null,
   "metadata": {},
   "outputs": [],
   "source": [
    "a = 6*[\"N/A\"]"
   ]
  },
  {
   "cell_type": "code",
   "execution_count": null,
   "metadata": {},
   "outputs": [],
   "source": [
    "a"
   ]
  },
  {
   "cell_type": "code",
   "execution_count": null,
   "metadata": {},
   "outputs": [],
   "source": [
    "a.append(\"hola\")"
   ]
  },
  {
   "cell_type": "code",
   "execution_count": null,
   "metadata": {},
   "outputs": [],
   "source": [
    "a.append(\"hello\")\n"
   ]
  },
  {
   "cell_type": "code",
   "execution_count": null,
   "metadata": {},
   "outputs": [],
   "source": [
    "a\n"
   ]
  },
  {
   "cell_type": "code",
   "execution_count": null,
   "metadata": {},
   "outputs": [],
   "source": []
  },
  {
   "cell_type": "code",
   "execution_count": null,
   "metadata": {},
   "outputs": [],
   "source": []
  },
  {
   "cell_type": "code",
   "execution_count": null,
   "metadata": {},
   "outputs": [],
   "source": []
  },
  {
   "cell_type": "code",
   "execution_count": null,
   "metadata": {},
   "outputs": [],
   "source": []
  },
  {
   "cell_type": "code",
   "execution_count": null,
   "metadata": {},
   "outputs": [],
   "source": [
    "day1_day3_df = new_lemmas_df[new_lemmas_df[\"date\"].isin(pd.date_range(\"2016-01-01\", \"2016-01-03\"))]\n",
    "day1_day3_df.head()\n",
    "day1_day3_lemmas = day1_day3_df[\"lemmas\"].tolist()\n",
    "day1_day3_new_lemmas = [eval(i) for i in day1_day3_lemmas]\n",
    "day1_day3_dictionary = corpora.Dictionary(day1_day3_new_lemmas)\n",
    "print(\"Dictionary Length: %d\" % len((day1_day3_dictionary)))\n",
    "corpus = [day1_day3_dictionary.doc2bow(story) for story in day1_day3_new_lemmas]\n",
    "print(\"Corpus Length: %d\" % (len(corpus)))\n"
   ]
  },
  {
   "cell_type": "code",
   "execution_count": null,
   "metadata": {
    "collapsed": true
   },
   "outputs": [],
   "source": [
    "tfidf_model = models.TfidfModel(corpus)  # create tf.idf model\n",
    "# tfidf_model.save(\"tfidf_model\")\n",
    "tfidf_corpus = tfidf_model[corpus]\n",
    "num_topics = 100\n",
    "lda_model = models.ldamodel.LdaModel(corpus=tfidf_corpus, id2word=day1_day3_dictionary, num_topics=num_topics, \n",
    "                                         update_every=0, chunksize=5000, passes=20)\n",
    "# lda_model.save(\"lda_model\")\n",
    "lda_corpus = lda_model[tfidf_corpus]\n",
    "# corpora.MmCorpus.serialize(\"lda_corpus.mm\", lda_corpus)\n",
    "topics_found_lda = lda_model.print_topics(num_topics=5, num_words=10)\n",
    "all_topics = lda_model.print_topics(num_topics=100, num_words=10)"
   ]
  },
  {
   "cell_type": "code",
   "execution_count": null,
   "metadata": {
    "collapsed": true
   },
   "outputs": [],
   "source": [
    "\n",
    "for t in all_topics:\n",
    "    words = re.findall('\"([^\"]+)\"', t[1])\n",
    "    words = ' '.join(words)\n",
    "    topics.append(words)\n",
    "    \n",
    "lda_df = pd.DataFrame(columns=range(100))\n",
    "\n"
   ]
  },
  {
   "cell_type": "code",
   "execution_count": null,
   "metadata": {},
   "outputs": [],
   "source": [
    "for i in range(len(day1_day3_new_lemmas)):\n",
    "    doc = lda_corpus[i]\n",
    "    for top, prob in doc:\n",
    "        lda_df.set_value(i, top, prob)"
   ]
  },
  {
   "cell_type": "code",
   "execution_count": null,
   "metadata": {},
   "outputs": [],
   "source": [
    "day1_day3_df.shape\n",
    "lda_df.head() \n",
    "lda_df.shape  \n"
   ]
  },
  {
   "cell_type": "code",
   "execution_count": null,
   "metadata": {},
   "outputs": [],
   "source": [
    "topics = 6*[\"n/a\"]\n",
    "for t in all_topics:\n",
    "    words = re.findall('\"([^\"]+)\"', t[1])\n",
    "    words = ' '.join(words)\n",
    "    topics.append(words)"
   ]
  },
  {
   "cell_type": "code",
   "execution_count": null,
   "metadata": {},
   "outputs": [],
   "source": [
    "new_day1_day3_df = pd.concat([day1_day3_df, lda_df], axis=1, join='inner')\n",
    "new_day1_day3_df.shape"
   ]
  },
  {
   "cell_type": "code",
   "execution_count": null,
   "metadata": {
    "collapsed": true
   },
   "outputs": [],
   "source": [
    "new_day1_day3_df.loc[-1] = topics"
   ]
  },
  {
   "cell_type": "code",
   "execution_count": null,
   "metadata": {},
   "outputs": [],
   "source": [
    "new_day1_day3_df.tail()"
   ]
  },
  {
   "cell_type": "code",
   "execution_count": null,
   "metadata": {},
   "outputs": [],
   "source": []
  },
  {
   "cell_type": "code",
   "execution_count": null,
   "metadata": {},
   "outputs": [],
   "source": []
  },
  {
   "cell_type": "code",
   "execution_count": null,
   "metadata": {},
   "outputs": [],
   "source": []
  },
  {
   "cell_type": "code",
   "execution_count": null,
   "metadata": {},
   "outputs": [],
   "source": []
  },
  {
   "cell_type": "code",
   "execution_count": null,
   "metadata": {},
   "outputs": [],
   "source": []
  },
  {
   "cell_type": "code",
   "execution_count": null,
   "metadata": {
    "collapsed": true
   },
   "outputs": [],
   "source": []
  }
 ],
 "metadata": {
  "kernelspec": {
   "display_name": "Python 3",
   "language": "python",
   "name": "python3"
  },
  "language_info": {
   "codemirror_mode": {
    "name": "ipython",
    "version": 3
   },
   "file_extension": ".py",
   "mimetype": "text/x-python",
   "name": "python",
   "nbconvert_exporter": "python",
   "pygments_lexer": "ipython3",
   "version": "3.5.2"
  }
 },
 "nbformat": 4,
 "nbformat_minor": 2
}
