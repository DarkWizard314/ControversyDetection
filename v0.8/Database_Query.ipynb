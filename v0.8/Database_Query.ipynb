{
 "cells": [
  {
   "cell_type": "code",
   "execution_count": 2,
   "metadata": {},
   "outputs": [],
   "source": [
    "import pandas as pd\n",
    "from gensim import corpora, models\n",
    "from gensim.models import Phrases\n",
    "\n",
    "df = pd.read_csv(\"January_stories_with_date.csv\", index_col=0)"
   ]
  },
  {
   "cell_type": "code",
   "execution_count": 3,
   "metadata": {},
   "outputs": [
    {
     "name": "stdout",
     "output_type": "stream",
     "text": [
      "42262\n",
      "31791\n"
     ]
    }
   ],
   "source": [
    "lemmas_df = df[df[\"lemmas\"].apply(lambda x: len(eval(x))>=50)] # Getting rid of stories with less than 50 lemmas\n",
    "print(len(df))\n",
    "print(len(lemmas_df))"
   ]
  },
  {
   "cell_type": "code",
   "execution_count": 10,
   "metadata": {},
   "outputs": [
    {
     "name": "stderr",
     "output_type": "stream",
     "text": [
      "/Library/Frameworks/Python.framework/Versions/3.5/lib/python3.5/site-packages/ipykernel_launcher.py:4: SettingWithCopyWarning: \n",
      "A value is trying to be set on a copy of a slice from a DataFrame.\n",
      "Try using .loc[row_indexer,col_indexer] = value instead\n",
      "\n",
      "See the caveats in the documentation: http://pandas.pydata.org/pandas-docs/stable/indexing.html#indexing-view-versus-copy\n",
      "  after removing the cwd from sys.path.\n"
     ]
    }
   ],
   "source": [
    "# dates = len(df)*[\"2016-01-01\"]\n",
    "# df['date'] = dates\n",
    "#df['date'] = pd.to_datetime(df['date'])\n",
    "lemmas_df['date'] = pd.to_datetime(lemmas_df['date'])\n",
    "# df.loc[df.index.isin(range(41746, 42261)), 'date'] = '2016-01-31'\n",
    "#df.to_csv(\"january_stories_with_date.csv\")\n",
    "#df.loc[42261]\n"
   ]
  },
  {
   "cell_type": "code",
   "execution_count": null,
   "metadata": {},
   "outputs": [],
   "source": [
    "#jan1_jan3_df = lemmas_df[lemmas_df[\"date\"].isin(pd.date_range(\"2016-01-01\", \"2016-01-03\"))]\n",
    "#len(jan1_jan3_df)\n"
   ]
  },
  {
   "cell_type": "code",
   "execution_count": null,
   "metadata": {},
   "outputs": [],
   "source": [
    "# jan1_jan3_lemmas = jan1_jan3_df[\"lemmas\"].tolist()\n",
    "# jan1_jan3_new_lemmas = [eval(i) for i in jan1_jan3_lemmas]\n"
   ]
  },
  {
   "cell_type": "code",
   "execution_count": null,
   "metadata": {},
   "outputs": [],
   "source": [
    "# jan1_jan3_dictionary = corpora.Dictionary(jan1_jan3_new_lemmas)\n",
    "# #len(new_dictionary)\n",
    "# corpus = [jan1_jan3_dictionary.doc2bow(story) for story in jan1_jan3_new_lemmas]\n",
    "#len(corpus)"
   ]
  },
  {
   "cell_type": "code",
   "execution_count": 17,
   "metadata": {},
   "outputs": [],
   "source": [
    "def windowLdaModel(day1, day3):\n",
    "    \"\"\"\n",
    "    This function takes two inputs, start date and end date, then it builds an lda model for those days' data and concatenate the lda dataframe with the given\n",
    "    story dataframe\n",
    "    \"\"\"\n",
    "    day1_day3_df = lemmas_df[lemmas_df[\"date\"].isin(pd.date_range(\"2016-01-%s\" % (day1), \"2016-01-%s\" % (day3)))]\n",
    "    day1_day3_lemmas = day1_day3_df[\"lemmas\"].tolist()\n",
    "    day1_day3_new_lemmas = [eval(i) for i in day1_day3_lemmas]\n",
    "    day1_day3_dictionary = corpora.Dictionary(day1_day3_new_lemmas)\n",
    "    print(\"Dictionary Length: %d\" % len((day1_day3_dictionary)))\n",
    "    corpus = [day1_day3_dictionary.doc2bow(story) for story in day1_day3_new_lemmas]\n",
    "    print(\"Corpus Length: %d\" % (len(corpus)))\n",
    "\n",
    "    tfidf_model = models.TfidfModel(corpus)  # create tf.idf model\n",
    "    # tfidf_model.save(\"tfidf_model\")\n",
    "    tfidf_corpus = tfidf_model[corpus]\n",
    "    num_topics = 100\n",
    "    lda_model = models.ldamodel.LdaModel(corpus=tfidf_corpus, id2word=day1_day3_dictionary, num_topics=num_topics, \n",
    "                                         update_every=0, chunksize=5000, passes=20)\n",
    "    # lda_model.save(\"lda_model\")\n",
    "    lda_corpus = lda_model[tfidf_corpus]\n",
    "    # corpora.MmCorpus.serialize(\"lda_corpus.mm\", lda_corpus)\n",
    "    topics_found_lda = lda_model.print_topics(num_topics=5, num_words=10)\n",
    "    all_topics = lda_model.print_topics(num_topics=100, num_words=10)\n",
    "\n",
    "    lda_df = pd.DataFrame(columns=range(100))\n",
    "    \n",
    "    for i in range(len(day1_day3_new_lemmas)):\n",
    "        doc = lda_corpus[i]\n",
    "        for top, prob in doc:\n",
    "            lda_df.set_value(i, top, prob)\n",
    "    print(doc)\n",
    "\n",
    "    new_day1_day3_df = pd.concat([day1_day3_df, lda_df], axis=1, join='inner')\n",
    "    new_day1_day3_df.to_csv(\"%s_%s.csv\" %(day1, day3))\n",
    "    \n",
    "    return (new_day1_day3_df, all_topics)\n"
   ]
  },
  {
   "cell_type": "code",
   "execution_count": 12,
   "metadata": {},
   "outputs": [
    {
     "name": "stdout",
     "output_type": "stream",
     "text": [
      "Dictionary Length: 28846\n",
      "Corpus Length: 2283\n",
      "[(24, 0.022070508020536068), (26, 0.35224413451439729), (55, 0.38058914061868837), (96, 0.069598951857333155), (99, 0.085032780497353883)]\n"
     ]
    }
   ],
   "source": [
    "jan1_jan3_lda_df = windowLdaModel(1, 3)"
   ]
  },
  {
   "cell_type": "code",
   "execution_count": 16,
   "metadata": {},
   "outputs": [
    {
     "name": "stdout",
     "output_type": "stream",
     "text": [
      "Dictionary Length: 26092\n",
      "Corpus Length: 2144\n",
      "[(18, 0.038579439317452897), (43, 0.012446499166766378), (46, 0.046806055292100905), (55, 0.03027218610996887), (73, 0.016912500782063786), (80, 0.077542283754546484), (88, 0.35430518497609176), (95, 0.33997115639085662)]\n",
      "CPU times: user 11min 17s, sys: 9.45 s, total: 11min 26s\n",
      "Wall time: 11min 45s\n"
     ]
    }
   ],
   "source": [
    "%time jan2_jan4_lda_df = windowLdaModel(2, 4)"
   ]
  },
  {
   "cell_type": "code",
   "execution_count": 18,
   "metadata": {},
   "outputs": [
    {
     "name": "stdout",
     "output_type": "stream",
     "text": [
      "Dictionary Length: 27966\n",
      "Corpus Length: 2827\n",
      "[(21, 0.22936348283749131), (74, 0.59545177843313124)]\n",
      "CPU times: user 17min 37s, sys: 15.7 s, total: 17min 53s\n",
      "Wall time: 18min 38s\n"
     ]
    }
   ],
   "source": [
    "%time jan3_jan5_lda_df = windowLdaModel(3, 5)\n",
    "jan3_jan5_df, jan3_jan5_topics = jan3_jan5_lda_df"
   ]
  },
  {
   "cell_type": "code",
   "execution_count": 32,
   "metadata": {},
   "outputs": [
    {
     "name": "stdout",
     "output_type": "stream",
     "text": [
      "Dictionary Length: 31280\n",
      "Corpus Length: 3582\n",
      "[(1, 0.018051042448580856), (17, 0.025908111034569501), (22, 0.012327293027074337), (49, 0.06450956090420594), (69, 0.046378030036298375), (73, 0.030930375547544433), (89, 0.12793089829343171), (90, 0.49497928960136406), (95, 0.068710911851646933)]\n",
      "CPU times: user 23min 22s, sys: 23.3 s, total: 23min 45s\n",
      "Wall time: 25min 18s\n"
     ]
    }
   ],
   "source": [
    "%time jan4_jan6_lda_df = windowLdaModel(4, 6)\n",
    "jan4_jan6_df, jan4_jan6_topics = jan4_jan6_lda_df"
   ]
  },
  {
   "cell_type": "code",
   "execution_count": 34,
   "metadata": {},
   "outputs": [
    {
     "name": "stdout",
     "output_type": "stream",
     "text": [
      "Dictionary Length: 33374\n",
      "Corpus Length: 3857\n",
      "[(14, 0.11856987739938979), (40, 0.0589533709641527), (43, 0.013774361082759879), (46, 0.06368397702390001), (80, 0.023838361108808749), (93, 0.64641756099623493)]\n",
      "CPU times: user 23min 10s, sys: 18.3 s, total: 23min 28s\n",
      "Wall time: 23min 46s\n"
     ]
    }
   ],
   "source": [
    "%time jan5_jan7_lda_df = windowLdaModel(5, 7)\n",
    "jan5_jan7_df, jan5_jan7_topics = jan5_jan7_lda_df"
   ]
  },
  {
   "cell_type": "code",
   "execution_count": null,
   "metadata": {},
   "outputs": [
    {
     "name": "stdout",
     "output_type": "stream",
     "text": [
      "Dictionary Length: 34191\n",
      "Corpus Length: 3822\n"
     ]
    }
   ],
   "source": [
    "%time jan6_jan8_lda_df = windowLdaModel(6, 8)\n",
    "jan6_jan8_df, jan6_jan8_topics = jan6_jan8_lda_df"
   ]
  },
  {
   "cell_type": "code",
   "execution_count": null,
   "metadata": {},
   "outputs": [],
   "source": [
    "#new_jan1_jan3\n"
   ]
  },
  {
   "cell_type": "code",
   "execution_count": null,
   "metadata": {},
   "outputs": [],
   "source": []
  },
  {
   "cell_type": "code",
   "execution_count": null,
   "metadata": {},
   "outputs": [],
   "source": []
  },
  {
   "cell_type": "code",
   "execution_count": null,
   "metadata": {},
   "outputs": [],
   "source": []
  },
  {
   "cell_type": "code",
   "execution_count": null,
   "metadata": {},
   "outputs": [],
   "source": []
  },
  {
   "cell_type": "code",
   "execution_count": null,
   "metadata": {},
   "outputs": [],
   "source": []
  },
  {
   "cell_type": "code",
   "execution_count": null,
   "metadata": {},
   "outputs": [],
   "source": []
  },
  {
   "cell_type": "code",
   "execution_count": null,
   "metadata": {},
   "outputs": [],
   "source": [
    "\n"
   ]
  },
  {
   "cell_type": "code",
   "execution_count": null,
   "metadata": {},
   "outputs": [],
   "source": []
  },
  {
   "cell_type": "code",
   "execution_count": null,
   "metadata": {},
   "outputs": [],
   "source": []
  },
  {
   "cell_type": "code",
   "execution_count": null,
   "metadata": {},
   "outputs": [],
   "source": []
  },
  {
   "cell_type": "code",
   "execution_count": null,
   "metadata": {},
   "outputs": [],
   "source": []
  },
  {
   "cell_type": "code",
   "execution_count": null,
   "metadata": {
    "collapsed": true
   },
   "outputs": [],
   "source": []
  },
  {
   "cell_type": "code",
   "execution_count": null,
   "metadata": {},
   "outputs": [],
   "source": []
  },
  {
   "cell_type": "code",
   "execution_count": null,
   "metadata": {},
   "outputs": [],
   "source": []
  },
  {
   "cell_type": "code",
   "execution_count": null,
   "metadata": {
    "collapsed": true
   },
   "outputs": [],
   "source": []
  }
 ],
 "metadata": {
  "kernelspec": {
   "display_name": "Python 3",
   "language": "python",
   "name": "python3"
  },
  "language_info": {
   "codemirror_mode": {
    "name": "ipython",
    "version": 3
   },
   "file_extension": ".py",
   "mimetype": "text/x-python",
   "name": "python",
   "nbconvert_exporter": "python",
   "pygments_lexer": "ipython3",
   "version": "3.5.2"
  }
 },
 "nbformat": 4,
 "nbformat_minor": 2
}
