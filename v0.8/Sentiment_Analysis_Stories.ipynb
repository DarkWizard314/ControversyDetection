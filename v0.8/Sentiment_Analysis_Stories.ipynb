{
 "cells": [
  {
   "cell_type": "code",
   "execution_count": 1,
   "metadata": {
    "collapsed": true
   },
   "outputs": [],
   "source": [
    "import pandas as pd\n",
    "from gensim import corpora, models\n",
    "from gensim.models import Phrases\n",
    "\n",
    "df = pd.read_csv(\"January_stories_with_date.csv\", index_col=0)\n"
   ]
  },
  {
   "cell_type": "code",
   "execution_count": 2,
   "metadata": {},
   "outputs": [
    {
     "name": "stdout",
     "output_type": "stream",
     "text": [
      "42262\n",
      "31791\n"
     ]
    }
   ],
   "source": [
    "lemmas_df = df[df[\"lemmas\"].apply(lambda x: len(eval(x))>=50)] # Getting rid of stories with less than 50 lemmas\n",
    "print(len(df))\n",
    "print(len(lemmas_df))"
   ]
  },
  {
   "cell_type": "code",
   "execution_count": 3,
   "metadata": {},
   "outputs": [
    {
     "name": "stderr",
     "output_type": "stream",
     "text": [
      "/Library/Frameworks/Python.framework/Versions/3.5/lib/python3.5/site-packages/ipykernel_launcher.py:1: SettingWithCopyWarning: \n",
      "A value is trying to be set on a copy of a slice from a DataFrame.\n",
      "Try using .loc[row_indexer,col_indexer] = value instead\n",
      "\n",
      "See the caveats in the documentation: http://pandas.pydata.org/pandas-docs/stable/indexing.html#indexing-view-versus-copy\n",
      "  \"\"\"Entry point for launching an IPython kernel.\n"
     ]
    }
   ],
   "source": [
    "lemmas_df['date'] = pd.to_datetime(lemmas_df['date'])"
   ]
  },
  {
   "cell_type": "code",
   "execution_count": 29,
   "metadata": {},
   "outputs": [],
   "source": [
    "# Textblob Polarity Analysis\n",
    "# lemmas_df.head()\n",
    "stories_df = lemmas_df[\"story_itself\"].tolist()\n",
    "# stories_df[0]"
   ]
  },
  {
   "cell_type": "code",
   "execution_count": 21,
   "metadata": {},
   "outputs": [],
   "source": [
    "from textblob import TextBlob\n",
    "def sentimentAnalysis(story):\n",
    "    # This function takes the words of a story as input and gives a polarity and a subjectivity score as output\n",
    "    blob = TextBlob(story)\n",
    "    for sentence in blob.sentences:\n",
    "        return sentence.sentiment"
   ]
  },
  {
   "cell_type": "code",
   "execution_count": 31,
   "metadata": {},
   "outputs": [
    {
     "data": {
      "text/plain": [
       "True"
      ]
     },
     "execution_count": 31,
     "metadata": {},
     "output_type": "execute_result"
    }
   ],
   "source": [
    "story_sentiments = [sentimentAnalysis(story) for story in stories_df]\n",
    "len(story_sentiments) == len(lemmas_df)"
   ]
  },
  {
   "cell_type": "code",
   "execution_count": 61,
   "metadata": {},
   "outputs": [],
   "source": [
    "\n",
    "story_sentiments_df = pd.DataFrame({'polarity_sentiments':story_sentiments})\n",
    "\n",
    "new_df_with_polarity_sentiments = pd.concat([lemmas_df, story_sentiments_df], axis=1, join='inner')"
   ]
  },
  {
   "cell_type": "code",
   "execution_count": 58,
   "metadata": {},
   "outputs": [
    {
     "data": {
      "text/html": [
       "<div>\n",
       "<style>\n",
       "    .dataframe thead tr:only-child th {\n",
       "        text-align: right;\n",
       "    }\n",
       "\n",
       "    .dataframe thead th {\n",
       "        text-align: left;\n",
       "    }\n",
       "\n",
       "    .dataframe tbody tr th {\n",
       "        vertical-align: top;\n",
       "    }\n",
       "</style>\n",
       "<table border=\"1\" class=\"dataframe\">\n",
       "  <thead>\n",
       "    <tr style=\"text-align: right;\">\n",
       "      <th></th>\n",
       "      <th>story_id</th>\n",
       "      <th>real_words</th>\n",
       "      <th>story_itself</th>\n",
       "      <th>pos_tags</th>\n",
       "      <th>lemmas</th>\n",
       "      <th>date</th>\n",
       "      <th>polarity_sentiments</th>\n",
       "    </tr>\n",
       "  </thead>\n",
       "  <tbody>\n",
       "    <tr>\n",
       "      <th>1</th>\n",
       "      <td>1601000002</td>\n",
       "      <td>['Faster', 'than', 'a', 'GYRO', 'copter', ',',...</td>\n",
       "      <td>['Faster than a GYRO copter , more powerful th...</td>\n",
       "      <td>['JJR', 'IN', 'DT', 'NN', 'NN', ',', 'RBR', 'J...</td>\n",
       "      <td>['faster', 'than', 'a', 'gyro', 'copter', ',',...</td>\n",
       "      <td>2016-01-01</td>\n",
       "      <td>(0.8, 0.9)</td>\n",
       "    </tr>\n",
       "    <tr>\n",
       "      <th>2</th>\n",
       "      <td>1601000003</td>\n",
       "      <td>['Welcome', '.', 'I', '&amp;apos;m', 'Tom', 'Forem...</td>\n",
       "      <td>['Welcome . I &amp;apos;m Tom Foreman . We could h...</td>\n",
       "      <td>['JJ', '.', 'PRP', 'VBP', 'NNP', 'NN', '.', 'P...</td>\n",
       "      <td>['welcome', '.', 'I', 'be', 'Tom', 'foreman', ...</td>\n",
       "      <td>2016-01-01</td>\n",
       "      <td>(0.0, 0.0)</td>\n",
       "    </tr>\n",
       "    <tr>\n",
       "      <th>3</th>\n",
       "      <td>1601000004</td>\n",
       "      <td>['It', 'was', 'a', 'year', 'of', 'firsts', '.'...</td>\n",
       "      <td>['It was a year of firsts . I think a lot of p...</td>\n",
       "      <td>['PRP', 'VBD', 'DT', 'NN', 'IN', 'NNS', '.', '...</td>\n",
       "      <td>['it', 'be', 'a', 'year', 'of', 'first', '.', ...</td>\n",
       "      <td>2016-01-01</td>\n",
       "      <td>(-0.2375, 0.35833333333333334)</td>\n",
       "    </tr>\n",
       "    <tr>\n",
       "      <th>4</th>\n",
       "      <td>1601000005</td>\n",
       "      <td>['The', 'worst', 'way', 'to', 'start', 'came',...</td>\n",
       "      <td>['The worst way to start came in the first few...</td>\n",
       "      <td>['DT', 'JJS', 'NN', 'TO', 'VB', 'VBD', 'IN', '...</td>\n",
       "      <td>['the', 'worst', 'way', 'to', 'start', 'come',...</td>\n",
       "      <td>2016-01-01</td>\n",
       "      <td>(-0.5, 0.5)</td>\n",
       "    </tr>\n",
       "    <tr>\n",
       "      <th>5</th>\n",
       "      <td>1601000006</td>\n",
       "      <td>['Worst', 'advocate', 'for', 'world', 'peace',...</td>\n",
       "      <td>['Worst advocate for world peace , Russian pre...</td>\n",
       "      <td>['JJS', 'NN', 'IN', 'NN', 'NN', ',', 'NNP', 'N...</td>\n",
       "      <td>['worst', 'advocate', 'for', 'world', 'peace',...</td>\n",
       "      <td>2016-01-01</td>\n",
       "      <td>(0.26666666666666666, 0.6666666666666666)</td>\n",
       "    </tr>\n",
       "  </tbody>\n",
       "</table>\n",
       "</div>"
      ],
      "text/plain": [
       "     story_id                                         real_words  \\\n",
       "1  1601000002  ['Faster', 'than', 'a', 'GYRO', 'copter', ',',...   \n",
       "2  1601000003  ['Welcome', '.', 'I', '&apos;m', 'Tom', 'Forem...   \n",
       "3  1601000004  ['It', 'was', 'a', 'year', 'of', 'firsts', '.'...   \n",
       "4  1601000005  ['The', 'worst', 'way', 'to', 'start', 'came',...   \n",
       "5  1601000006  ['Worst', 'advocate', 'for', 'world', 'peace',...   \n",
       "\n",
       "                                        story_itself  \\\n",
       "1  ['Faster than a GYRO copter , more powerful th...   \n",
       "2  ['Welcome . I &apos;m Tom Foreman . We could h...   \n",
       "3  ['It was a year of firsts . I think a lot of p...   \n",
       "4  ['The worst way to start came in the first few...   \n",
       "5  ['Worst advocate for world peace , Russian pre...   \n",
       "\n",
       "                                            pos_tags  \\\n",
       "1  ['JJR', 'IN', 'DT', 'NN', 'NN', ',', 'RBR', 'J...   \n",
       "2  ['JJ', '.', 'PRP', 'VBP', 'NNP', 'NN', '.', 'P...   \n",
       "3  ['PRP', 'VBD', 'DT', 'NN', 'IN', 'NNS', '.', '...   \n",
       "4  ['DT', 'JJS', 'NN', 'TO', 'VB', 'VBD', 'IN', '...   \n",
       "5  ['JJS', 'NN', 'IN', 'NN', 'NN', ',', 'NNP', 'N...   \n",
       "\n",
       "                                              lemmas       date  \\\n",
       "1  ['faster', 'than', 'a', 'gyro', 'copter', ',',... 2016-01-01   \n",
       "2  ['welcome', '.', 'I', 'be', 'Tom', 'foreman', ... 2016-01-01   \n",
       "3  ['it', 'be', 'a', 'year', 'of', 'first', '.', ... 2016-01-01   \n",
       "4  ['the', 'worst', 'way', 'to', 'start', 'come',... 2016-01-01   \n",
       "5  ['worst', 'advocate', 'for', 'world', 'peace',... 2016-01-01   \n",
       "\n",
       "                         polarity_sentiments  \n",
       "1                                 (0.8, 0.9)  \n",
       "2                                 (0.0, 0.0)  \n",
       "3             (-0.2375, 0.35833333333333334)  \n",
       "4                                (-0.5, 0.5)  \n",
       "5  (0.26666666666666666, 0.6666666666666666)  "
      ]
     },
     "execution_count": 58,
     "metadata": {},
     "output_type": "execute_result"
    }
   ],
   "source": [
    "new_df_with_polarity_sentiments.head()\n"
   ]
  },
  {
   "cell_type": "code",
   "execution_count": 53,
   "metadata": {},
   "outputs": [
    {
     "data": {
      "text/plain": [
       "Sentiment(polarity=0.23333333333333336, subjectivity=0.5)"
      ]
     },
     "execution_count": 53,
     "metadata": {},
     "output_type": "execute_result"
    }
   ],
   "source": [
    "sentimentAnalysis(stories_df[0])"
   ]
  },
  {
   "cell_type": "code",
   "execution_count": 42,
   "metadata": {},
   "outputs": [],
   "source": []
  },
  {
   "cell_type": "code",
   "execution_count": 62,
   "metadata": {},
   "outputs": [
    {
     "data": {
      "text/plain": [
       "pandas.core.frame.DataFrame"
      ]
     },
     "execution_count": 62,
     "metadata": {},
     "output_type": "execute_result"
    }
   ],
   "source": []
  },
  {
   "cell_type": "code",
   "execution_count": 63,
   "metadata": {},
   "outputs": [
    {
     "data": {
      "text/html": [
       "<div>\n",
       "<style>\n",
       "    .dataframe thead tr:only-child th {\n",
       "        text-align: right;\n",
       "    }\n",
       "\n",
       "    .dataframe thead th {\n",
       "        text-align: left;\n",
       "    }\n",
       "\n",
       "    .dataframe tbody tr th {\n",
       "        vertical-align: top;\n",
       "    }\n",
       "</style>\n",
       "<table border=\"1\" class=\"dataframe\">\n",
       "  <thead>\n",
       "    <tr style=\"text-align: right;\">\n",
       "      <th></th>\n",
       "      <th>polarity_sentiments</th>\n",
       "    </tr>\n",
       "  </thead>\n",
       "  <tbody>\n",
       "    <tr>\n",
       "      <th>0</th>\n",
       "      <td>(0.23333333333333336, 0.5)</td>\n",
       "    </tr>\n",
       "    <tr>\n",
       "      <th>1</th>\n",
       "      <td>(0.8, 0.9)</td>\n",
       "    </tr>\n",
       "    <tr>\n",
       "      <th>2</th>\n",
       "      <td>(0.0, 0.0)</td>\n",
       "    </tr>\n",
       "    <tr>\n",
       "      <th>3</th>\n",
       "      <td>(-0.2375, 0.35833333333333334)</td>\n",
       "    </tr>\n",
       "    <tr>\n",
       "      <th>4</th>\n",
       "      <td>(-0.5, 0.5)</td>\n",
       "    </tr>\n",
       "  </tbody>\n",
       "</table>\n",
       "</div>"
      ],
      "text/plain": [
       "              polarity_sentiments\n",
       "0      (0.23333333333333336, 0.5)\n",
       "1                      (0.8, 0.9)\n",
       "2                      (0.0, 0.0)\n",
       "3  (-0.2375, 0.35833333333333334)\n",
       "4                     (-0.5, 0.5)"
      ]
     },
     "execution_count": 63,
     "metadata": {},
     "output_type": "execute_result"
    }
   ],
   "source": [
    "story_sentiments_df.head()"
   ]
  },
  {
   "cell_type": "code",
   "execution_count": null,
   "metadata": {
    "collapsed": true
   },
   "outputs": [],
   "source": []
  }
 ],
 "metadata": {
  "kernelspec": {
   "display_name": "Python 3",
   "language": "python",
   "name": "python3"
  },
  "language_info": {
   "codemirror_mode": {
    "name": "ipython",
    "version": 3
   },
   "file_extension": ".py",
   "mimetype": "text/x-python",
   "name": "python",
   "nbconvert_exporter": "python",
   "pygments_lexer": "ipython3",
   "version": "3.5.2"
  }
 },
 "nbformat": 4,
 "nbformat_minor": 2
}
