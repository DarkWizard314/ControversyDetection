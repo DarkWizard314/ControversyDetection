{
 "cells": [
  {
   "cell_type": "code",
   "execution_count": 1,
   "metadata": {
    "collapsed": true
   },
   "outputs": [],
   "source": [
    "import pandas as pd\n",
    "from gensim import corpora, models\n",
    "from gensim.models import Phrases\n",
    "\n",
    "df = pd.read_csv(\"January_stories_with_date.csv\", index_col=0)\n"
   ]
  },
  {
   "cell_type": "code",
   "execution_count": 2,
   "metadata": {},
   "outputs": [
    {
     "name": "stdout",
     "output_type": "stream",
     "text": [
      "42262\n",
      "31791\n"
     ]
    }
   ],
   "source": [
    "lemmas_df = df[df[\"lemmas\"].apply(lambda x: len(eval(x))>=50)] # Getting rid of stories with less than 50 lemmas\n",
    "print(len(df))\n",
    "print(len(lemmas_df))"
   ]
  },
  {
   "cell_type": "code",
   "execution_count": 3,
   "metadata": {},
   "outputs": [
    {
     "name": "stderr",
     "output_type": "stream",
     "text": [
      "/Library/Frameworks/Python.framework/Versions/3.5/lib/python3.5/site-packages/ipykernel_launcher.py:1: SettingWithCopyWarning: \n",
      "A value is trying to be set on a copy of a slice from a DataFrame.\n",
      "Try using .loc[row_indexer,col_indexer] = value instead\n",
      "\n",
      "See the caveats in the documentation: http://pandas.pydata.org/pandas-docs/stable/indexing.html#indexing-view-versus-copy\n",
      "  \"\"\"Entry point for launching an IPython kernel.\n"
     ]
    }
   ],
   "source": [
    "lemmas_df['date'] = pd.to_datetime(lemmas_df['date'])"
   ]
  },
  {
   "cell_type": "code",
   "execution_count": 4,
   "metadata": {},
   "outputs": [
    {
     "data": {
      "text/plain": [
       "\"['Faster than a GYRO copter , more powerful than pizza rat , and hitting harder than Holly Holm . This year countless victims in politics , sports , pop culture , music , movies and we will take them on with our League of Super Heroes . Actress , Melissa Joan Hart from CNN &apos;s quest means business , Richard Quest . Model and reality TV star Carmen Carrera . Actor and singer Titus Burgess . From the morning Radio Show Bethany Watson . CNN Anchor John Berman . From fusion &apos;s , `` No , you shut up &apos;&apos; Paul F. Tomkins and from HLN &apos;s `` Morning Express , &apos;&apos; Robin Meade . It &apos;s `` all the best , all the worst &apos;&apos; 2015 .']\""
      ]
     },
     "execution_count": 4,
     "metadata": {},
     "output_type": "execute_result"
    }
   ],
   "source": [
    "# Textblob Polarity Analysis\n",
    "# lemmas_df.head()\n",
    "stories_lst = lemmas_df[\"story_itself\"].tolist()\n",
    "stories_lst[0]"
   ]
  },
  {
   "cell_type": "code",
   "execution_count": 5,
   "metadata": {},
   "outputs": [],
   "source": [
    "from textblob import TextBlob\n",
    "def sentimentAnalysis(story):\n",
    "    # This function takes the words of a story as input and gives a polarity and a subjectivity score as output\n",
    "    blob = TextBlob(story)\n",
    "    for sentence in blob.sentences:\n",
    "        return sentence.sentiment"
   ]
  },
  {
   "cell_type": "code",
   "execution_count": 6,
   "metadata": {},
   "outputs": [
    {
     "data": {
      "text/plain": [
       "True"
      ]
     },
     "execution_count": 6,
     "metadata": {},
     "output_type": "execute_result"
    }
   ],
   "source": [
    "story_sentiments = [sentimentAnalysis(story) for story in stories_lst]\n",
    "len(story_sentiments) == len(lemmas_df)"
   ]
  },
  {
   "cell_type": "code",
   "execution_count": 8,
   "metadata": {},
   "outputs": [],
   "source": [
    "lemmas_emotion_df = lemmas_df"
   ]
  },
  {
   "cell_type": "code",
   "execution_count": 9,
   "metadata": {},
   "outputs": [
    {
     "name": "stderr",
     "output_type": "stream",
     "text": [
      "/Library/Frameworks/Python.framework/Versions/3.5/lib/python3.5/site-packages/ipykernel_launcher.py:1: SettingWithCopyWarning: \n",
      "A value is trying to be set on a copy of a slice from a DataFrame.\n",
      "Try using .loc[row_indexer,col_indexer] = value instead\n",
      "\n",
      "See the caveats in the documentation: http://pandas.pydata.org/pandas-docs/stable/indexing.html#indexing-view-versus-copy\n",
      "  \"\"\"Entry point for launching an IPython kernel.\n"
     ]
    },
    {
     "data": {
      "text/html": [
       "<div>\n",
       "<style>\n",
       "    .dataframe thead tr:only-child th {\n",
       "        text-align: right;\n",
       "    }\n",
       "\n",
       "    .dataframe thead th {\n",
       "        text-align: left;\n",
       "    }\n",
       "\n",
       "    .dataframe tbody tr th {\n",
       "        vertical-align: top;\n",
       "    }\n",
       "</style>\n",
       "<table border=\"1\" class=\"dataframe\">\n",
       "  <thead>\n",
       "    <tr style=\"text-align: right;\">\n",
       "      <th></th>\n",
       "      <th>story_id</th>\n",
       "      <th>real_words</th>\n",
       "      <th>story_itself</th>\n",
       "      <th>pos_tags</th>\n",
       "      <th>lemmas</th>\n",
       "      <th>date</th>\n",
       "      <th>polarity_sentiments</th>\n",
       "    </tr>\n",
       "  </thead>\n",
       "  <tbody>\n",
       "    <tr>\n",
       "      <th>1</th>\n",
       "      <td>1601000002</td>\n",
       "      <td>['Faster', 'than', 'a', 'GYRO', 'copter', ',',...</td>\n",
       "      <td>['Faster than a GYRO copter , more powerful th...</td>\n",
       "      <td>['JJR', 'IN', 'DT', 'NN', 'NN', ',', 'RBR', 'J...</td>\n",
       "      <td>['faster', 'than', 'a', 'gyro', 'copter', ',',...</td>\n",
       "      <td>2016-01-01</td>\n",
       "      <td>(0.23333333333333336, 0.5)</td>\n",
       "    </tr>\n",
       "    <tr>\n",
       "      <th>2</th>\n",
       "      <td>1601000003</td>\n",
       "      <td>['Welcome', '.', 'I', '&amp;apos;m', 'Tom', 'Forem...</td>\n",
       "      <td>['Welcome . I &amp;apos;m Tom Foreman . We could h...</td>\n",
       "      <td>['JJ', '.', 'PRP', 'VBP', 'NNP', 'NN', '.', 'P...</td>\n",
       "      <td>['welcome', '.', 'I', 'be', 'Tom', 'foreman', ...</td>\n",
       "      <td>2016-01-01</td>\n",
       "      <td>(0.8, 0.9)</td>\n",
       "    </tr>\n",
       "    <tr>\n",
       "      <th>3</th>\n",
       "      <td>1601000004</td>\n",
       "      <td>['It', 'was', 'a', 'year', 'of', 'firsts', '.'...</td>\n",
       "      <td>['It was a year of firsts . I think a lot of p...</td>\n",
       "      <td>['PRP', 'VBD', 'DT', 'NN', 'IN', 'NNS', '.', '...</td>\n",
       "      <td>['it', 'be', 'a', 'year', 'of', 'first', '.', ...</td>\n",
       "      <td>2016-01-01</td>\n",
       "      <td>(0.0, 0.0)</td>\n",
       "    </tr>\n",
       "    <tr>\n",
       "      <th>4</th>\n",
       "      <td>1601000005</td>\n",
       "      <td>['The', 'worst', 'way', 'to', 'start', 'came',...</td>\n",
       "      <td>['The worst way to start came in the first few...</td>\n",
       "      <td>['DT', 'JJS', 'NN', 'TO', 'VB', 'VBD', 'IN', '...</td>\n",
       "      <td>['the', 'worst', 'way', 'to', 'start', 'come',...</td>\n",
       "      <td>2016-01-01</td>\n",
       "      <td>(-0.2375, 0.35833333333333334)</td>\n",
       "    </tr>\n",
       "    <tr>\n",
       "      <th>5</th>\n",
       "      <td>1601000006</td>\n",
       "      <td>['Worst', 'advocate', 'for', 'world', 'peace',...</td>\n",
       "      <td>['Worst advocate for world peace , Russian pre...</td>\n",
       "      <td>['JJS', 'NN', 'IN', 'NN', 'NN', ',', 'NNP', 'N...</td>\n",
       "      <td>['worst', 'advocate', 'for', 'world', 'peace',...</td>\n",
       "      <td>2016-01-01</td>\n",
       "      <td>(-0.5, 0.5)</td>\n",
       "    </tr>\n",
       "  </tbody>\n",
       "</table>\n",
       "</div>"
      ],
      "text/plain": [
       "     story_id                                         real_words  \\\n",
       "1  1601000002  ['Faster', 'than', 'a', 'GYRO', 'copter', ',',...   \n",
       "2  1601000003  ['Welcome', '.', 'I', '&apos;m', 'Tom', 'Forem...   \n",
       "3  1601000004  ['It', 'was', 'a', 'year', 'of', 'firsts', '.'...   \n",
       "4  1601000005  ['The', 'worst', 'way', 'to', 'start', 'came',...   \n",
       "5  1601000006  ['Worst', 'advocate', 'for', 'world', 'peace',...   \n",
       "\n",
       "                                        story_itself  \\\n",
       "1  ['Faster than a GYRO copter , more powerful th...   \n",
       "2  ['Welcome . I &apos;m Tom Foreman . We could h...   \n",
       "3  ['It was a year of firsts . I think a lot of p...   \n",
       "4  ['The worst way to start came in the first few...   \n",
       "5  ['Worst advocate for world peace , Russian pre...   \n",
       "\n",
       "                                            pos_tags  \\\n",
       "1  ['JJR', 'IN', 'DT', 'NN', 'NN', ',', 'RBR', 'J...   \n",
       "2  ['JJ', '.', 'PRP', 'VBP', 'NNP', 'NN', '.', 'P...   \n",
       "3  ['PRP', 'VBD', 'DT', 'NN', 'IN', 'NNS', '.', '...   \n",
       "4  ['DT', 'JJS', 'NN', 'TO', 'VB', 'VBD', 'IN', '...   \n",
       "5  ['JJS', 'NN', 'IN', 'NN', 'NN', ',', 'NNP', 'N...   \n",
       "\n",
       "                                              lemmas       date  \\\n",
       "1  ['faster', 'than', 'a', 'gyro', 'copter', ',',... 2016-01-01   \n",
       "2  ['welcome', '.', 'I', 'be', 'Tom', 'foreman', ... 2016-01-01   \n",
       "3  ['it', 'be', 'a', 'year', 'of', 'first', '.', ... 2016-01-01   \n",
       "4  ['the', 'worst', 'way', 'to', 'start', 'come',... 2016-01-01   \n",
       "5  ['worst', 'advocate', 'for', 'world', 'peace',... 2016-01-01   \n",
       "\n",
       "              polarity_sentiments  \n",
       "1      (0.23333333333333336, 0.5)  \n",
       "2                      (0.8, 0.9)  \n",
       "3                      (0.0, 0.0)  \n",
       "4  (-0.2375, 0.35833333333333334)  \n",
       "5                     (-0.5, 0.5)  "
      ]
     },
     "execution_count": 9,
     "metadata": {},
     "output_type": "execute_result"
    }
   ],
   "source": [
    "lemmas_emotion_df[\"polarity_sentiments\"] = story_sentiments\n",
    "lemmas_emotion_df.head()"
   ]
  },
  {
   "cell_type": "code",
   "execution_count": 10,
   "metadata": {},
   "outputs": [],
   "source": [
    "from wnaffect import WNAffect\n",
    "from emotion import Emotion\n",
    "import nltk\n",
    "wna = WNAffect('wordnet-1.6/', 'wn-domains-3.2/')"
   ]
  },
  {
   "cell_type": "code",
   "execution_count": null,
   "metadata": {},
   "outputs": [],
   "source": [
    "new_lemmas_df = lemmas_df[['story_itself', 'pos_tags']]\n",
    "new_lemmas_df.head()"
   ]
  },
  {
   "cell_type": "code",
   "execution_count": 43,
   "metadata": {},
   "outputs": [
    {
     "data": {
      "text/plain": [
       "\"['Faster than a GYRO copter , more powerful than pizza rat , and hitting harder than Holly Holm . This year countless victims in politics , sports , pop culture , music , movies and we will take them on with our League of Super Heroes . Actress , Melissa Joan Hart from CNN &apos;s quest means business , Richard Quest . Model and reality TV star Carmen Carrera . Actor and singer Titus Burgess . From the morning Radio Show Bethany Watson . CNN Anchor John Berman . From fusion &apos;s , `` No , you shut up &apos;&apos; Paul F. Tomkins and from HLN &apos;s `` Morning Express , &apos;&apos; Robin Meade . It &apos;s `` all the best , all the worst &apos;&apos; 2015 .']\""
      ]
     },
     "execution_count": 43,
     "metadata": {},
     "output_type": "execute_result"
    }
   ],
   "source": [
    "story_list = lemmas_df['story_itself'].tolist()\n",
    "story_list[0]"
   ]
  },
  {
   "cell_type": "code",
   "execution_count": null,
   "metadata": {
    "collapsed": true
   },
   "outputs": [],
   "source": [
    "pos_tag_list = lemmas_df['pos_tags'].tolist()"
   ]
  },
  {
   "cell_type": "code",
   "execution_count": 44,
   "metadata": {},
   "outputs": [
    {
     "data": {
      "text/plain": [
       "[\"['JJR', 'IN', 'DT', 'NN', 'NN', ',', 'RBR', 'JJ', 'IN', 'NN', 'NN', ',', 'CC', 'VBG', 'JJR', 'IN', 'NNP', 'NNP', '.', 'DT', 'NN', 'JJ', 'NNS', 'IN', 'NNS', ',', 'NNS', ',', 'JJ', 'NN', ',', 'NN', ',', 'NNS', 'CC', 'PRP', 'MD', 'VB', 'PRP', 'IN', 'IN', 'PRP$', 'NN', 'IN', 'NNP', 'NNS', '.', 'NN', ',', 'NNP', 'NNP', 'NNP', 'IN', 'NNP', 'POS', 'NN', 'VBZ', 'NN', ',', 'NNP', 'NNP', '.', 'NN', 'CC', 'NN', 'NN', 'NN', 'NNP', 'NNP', '.', 'NN', 'CC', 'NN', 'NNP', 'NNP', '.', 'IN', 'DT', 'NN', 'NN', 'VBP', 'NNP', 'NNP', '.', 'NNP', 'NNP', 'NNP', 'NNP', '.', 'IN', 'NN', 'POS', ',', '``', 'UH', ',', 'PRP', 'VBD', 'RP', '&apos;&apos;', 'NNP', 'NNP', 'NNP', 'CC', 'IN', 'NN', 'POS', '``', 'NN', 'NN', ',', '&apos;&apos;', 'NNP', 'NNP', '.', 'PRP', 'VBZ', '``', 'PDT', 'DT', 'JJS', ',', 'PDT', 'DT', 'JJS', '&apos;&apos;', 'CD', '.']\",\n",
       " \"['JJ', '.', 'PRP', 'VBP', 'NNP', 'NN', '.', 'PRP', 'MD', 'VB', 'VBN', 'DT', 'NNS', 'TO', 'VB', 'PRP', 'IN', 'DT', 'NNS', 'IN', 'DT', 'NN', '.', 'DT', 'JJ', ',', 'DT', 'JJ', 'CC', 'DT', 'JJ', '.', 'CC', 'IN', 'DT', 'JJ', 'NN', 'PRP', 'VBP', 'VBG', 'TO', 'VB', 'IN', 'DT', 'IN', 'PRP', ',', 'VBG', 'IN', 'DT', 'JJS', 'CC', 'JJS', 'IN', 'DT', 'NN', 'IN', 'JJ', 'NN', '.']\"]"
      ]
     },
     "execution_count": 44,
     "metadata": {},
     "output_type": "execute_result"
    }
   ],
   "source": [
    "pos_tag_list[0:2]"
   ]
  },
  {
   "cell_type": "code",
   "execution_count": null,
   "metadata": {},
   "outputs": [],
   "source": [
    "from itertools import product\n",
    "list(product(story_list, pos_tag_list))"
   ]
  },
  {
   "cell_type": "code",
   "execution_count": 39,
   "metadata": {},
   "outputs": [
    {
     "ename": "TypeError",
     "evalue": "'zip' object is not callable",
     "output_type": "error",
     "traceback": [
      "\u001b[0;31m---------------------------------------------------------------------------\u001b[0m",
      "\u001b[0;31mTypeError\u001b[0m                                 Traceback (most recent call last)",
      "\u001b[0;32m<ipython-input-39-045b021feb90>\u001b[0m in \u001b[0;36m<module>\u001b[0;34m()\u001b[0m\n\u001b[0;32m----> 1\u001b[0;31m \u001b[0mnew_tuple\u001b[0m\u001b[0;34m(\u001b[0m\u001b[0;36m1\u001b[0m\u001b[0;34m)\u001b[0m\u001b[0;34m\u001b[0m\u001b[0m\n\u001b[0m",
      "\u001b[0;31mTypeError\u001b[0m: 'zip' object is not callable"
     ]
    }
   ],
   "source": [
    "new_tuple(1)"
   ]
  },
  {
   "cell_type": "code",
   "execution_count": null,
   "metadata": {
    "collapsed": true
   },
   "outputs": [],
   "source": []
  }
 ],
 "metadata": {
  "kernelspec": {
   "display_name": "Python 3",
   "language": "python",
   "name": "python3"
  },
  "language_info": {
   "codemirror_mode": {
    "name": "ipython",
    "version": 3
   },
   "file_extension": ".py",
   "mimetype": "text/x-python",
   "name": "python",
   "nbconvert_exporter": "python",
   "pygments_lexer": "ipython3",
   "version": "3.5.2"
  }
 },
 "nbformat": 4,
 "nbformat_minor": 2
}
