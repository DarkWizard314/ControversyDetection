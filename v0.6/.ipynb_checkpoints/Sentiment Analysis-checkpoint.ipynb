{
 "cells": [
  {
   "cell_type": "code",
   "execution_count": 1,
   "metadata": {
    "collapsed": true
   },
   "outputs": [],
   "source": [
    "import pandas as pd\n",
    "\n",
    "# importing the csv files which contains stories with lda_scores based on topics\n",
    "first_file = pd.read_csv(\"1-2-3_test.csv\")\n",
    "second_file = pd.read_csv(\"2-3-4_test.csv\")\n",
    "\n"
   ]
  },
  {
   "cell_type": "code",
   "execution_count": 3,
   "metadata": {
    "collapsed": true
   },
   "outputs": [],
   "source": [
    "def retrieveStory(file, row, column):\n",
    "    # This function takes a csv file's path, row numer and column numebretrieves a particular story's lda_score, \n",
    "    file = pd.read_csv(file)\n",
    "    score = file.iloc[row, column]\n",
    "    topic = file.iloc[0, column]\n",
    "    lemmas_in_story = file.iloc[row, -2]\n",
    "    number_of_lemmas = file.iloc[row, -1]\n",
    "    actual_words_in_story = file.iloc[row, -4]\n",
    "    number_of_actual_words = file.iloc[row, -3]\n",
    "#     print(\"Score: {}, Topic: {}, Number of Actual Words: {}, Actual Words in Story: {},Lemmas in Story: {}, Number of Lemmas: {}\"\n",
    "#           .format(score, topic, number_of_actual_words, actual_words_in_story, lemmas_in_story, number_of_lemmas))\n",
    "    return score, lemmas_in_story, number_of_lemmas"
   ]
  },
  {
   "cell_type": "code",
   "execution_count": 4,
   "metadata": {},
   "outputs": [
    {
     "data": {
      "text/plain": [
       "'0.805811958282'"
      ]
     },
     "execution_count": 4,
     "metadata": {},
     "output_type": "execute_result"
    }
   ],
   "source": [
    "a = retrieveStory(\"1-2-3_test.csv\", 2507, 23)\n",
    "a[0]"
   ]
  },
  {
   "cell_type": "code",
   "execution_count": 5,
   "metadata": {},
   "outputs": [
    {
     "data": {
      "text/plain": [
       "('0.744977864801',\n",
       " \"['indian', 'ocean', 'sad', 'discovery', 'part', 'miss', 'Malaysia', 'Air', 'flight']\",\n",
       " '9')"
      ]
     },
     "execution_count": 5,
     "metadata": {},
     "output_type": "execute_result"
    }
   ],
   "source": [
    "retrieveStory(\"1-2-3_test.csv\", 7, 37)"
   ]
  },
  {
   "cell_type": "code",
   "execution_count": 3,
   "metadata": {
    "collapsed": true
   },
   "outputs": [],
   "source": [
    "#retrieveStory(\"1-2-3_test.csv\", 947, 67)"
   ]
  },
  {
   "cell_type": "code",
   "execution_count": 149,
   "metadata": {
    "collapsed": true
   },
   "outputs": [],
   "source": [
    "#retrieveStory(\"2-3-4_test.csv\", 1081, 63)"
   ]
  },
  {
   "cell_type": "code",
   "execution_count": 150,
   "metadata": {
    "collapsed": true
   },
   "outputs": [],
   "source": [
    "#retrieveStory(\"2-3-4_test.csv\", 1159, 63)"
   ]
  },
  {
   "cell_type": "code",
   "execution_count": 153,
   "metadata": {
    "collapsed": true
   },
   "outputs": [],
   "source": [
    "#retrieveStory(\"2-3-4_test.csv\", 2150, 96)"
   ]
  },
  {
   "cell_type": "code",
   "execution_count": 151,
   "metadata": {
    "collapsed": true
   },
   "outputs": [],
   "source": [
    "#retrieveStory(\"2-3-4_test.csv\", 2318, 10)\n"
   ]
  },
  {
   "cell_type": "code",
   "execution_count": 7,
   "metadata": {},
   "outputs": [
    {
     "data": {
      "text/plain": [
       "('0.806684037195',\n",
       " \"['show', 'many', 'watch', 'netflix', 'series', 'cause', 'wave', 'online', 'offline', 'celebrate', 'tweet', 'people', 'sign', 'petition', 'concern', 'people', 'basically', 'fire', 'make', 'murderer', 'unlike', 'orange', 'new', 'black', 'house', 'card', 'series', 'real', 'people', 'actual', 'event', 'make', 'murderer', 'begin', 'exoneration', 'o', 'Steven', 'Avery', 'man', 'just', 'serve', '18', 'year', 'prison', 'rape', 'convict', 'two', 'year', 'later', 'release', 'charge', 'another', 'crime', 'time', 'gruesome', 'murder', 'young', 'woman', 'ten-part', 'steery', 'follow', 'tt', 'murder', 'trial', 'viewer', 'leave', 'wonder', 'join', 'talk', 'Emily', 'Longeretta', 'absolutely', 'make', 'riveting', 'think', 'interesting', 'thing', 'really', 'real', 'case', 'sight', 'never', 'see', 'like', 'say', 'bring', 'orange', 'new', 'black', 'show', 'base', 'real', 'case', 'something', 'see', 'time', 'show', 'side', 'court', 'really', '100', '%', 'kind', 'scary', 'see', 'many', 'believe', 'see', 'correct', 'wrong', 'police', 'prosecutor', 'job', 'prosecutor', 'comment', 'name', 'Ken', 'Catz', 'say', 'jury', 'provide', 'much', 'different', 'picture', 'series', 'provide', 'basically', 'say', 'bias', 'think', 'one-sided', 'mean', 'think', 'two', 'side', 'every', 'story', 'think', 'show', 'think', 'show', 'everything', 'filmmaker', 'speak', 'say', 'contact', 'every', 'single', 'person', 'involve', 'prosecutor', 'want', 'speak', 'want', 'interview', 'show', 'something', 'keep', 'mind', 'one-sided', 'two-sided', 'want', 'participate', 'interview', 'Gotcha', 'okay', 'know', 'mention', 'reaction', 'almost', '170,000', 'people', 'sign', 'petition', 'Change.org', 'call', 'pardon', 'Steve', 'Avery', 'think', 'something', 'really', 'come', 'affect', 'guy', 'life', 'mean', 'know', 'think', 'lot', 'people', 'hopeful', 'think', 'take', 'lot', 'just', 'petition', 'reopen', 'case', 'especially', 'case', 'much', 'evidence', 'much', 'buzz', 'around', 'guy', 'already', 'jail', '18', 'year', 'exonerate', 'one', 'think', 'know', 'big', 'thing', 'frame', 'think', 'people', 'can', 'hopeful', 'sure', 'reopen', 'case', 'give', 'take', 'obviously', 'passionate', 'takeaway', 'believe', 'police', 'guy', 'think', 'probably', 'opinion', 'think', 'probably', 'innocent', 'think', 'enough', 'evidence', 'actually', 'nothing', 'show', 'murder', 'know', 'case', 'interview', 'nephew', 'also', 'convict', 'nephew', 'really', 'greatest', 'mind-set', 'lot', 'people', 'say', 'know', 'confession', 'almost', 'demand', 'word-for-word', 'give', 'say', 'lot', 'people', 'know', 'say', 'mind-set', 'really', 'give', 'statement', 'like', 'opinion', 'think', 'probably', 'innocent', 'just', 'one', 'many', 'offering', 'opinion', 'everyone', 'want', 'talk', 'see', 'take', 'make', 'murderer', 'Netflix', 'really', 'make', 'splash', 'Emily', 'thanks', 'appreciate', 'time']\",\n",
       " '299')"
      ]
     },
     "execution_count": 7,
     "metadata": {},
     "output_type": "execute_result"
    }
   ],
   "source": [
    "retrieveStory(\"2-3-4_test.csv\", 2583, 11)"
   ]
  },
  {
   "cell_type": "code",
   "execution_count": 152,
   "metadata": {
    "collapsed": true
   },
   "outputs": [],
   "source": []
  },
  {
   "cell_type": "code",
   "execution_count": 153,
   "metadata": {},
   "outputs": [
    {
     "name": "stdout",
     "output_type": "stream",
     "text": [
      "20\n",
      "9\n",
      "33\n",
      "28\n",
      "34\n",
      "25\n",
      "50\n",
      "299\n"
     ]
    }
   ],
   "source": []
  },
  {
   "cell_type": "code",
   "execution_count": 6,
   "metadata": {
    "collapsed": true
   },
   "outputs": [],
   "source": [
    "first_story = retrieveStory(\"1-2-3_test.csv\", 2507, 23)[1]\n",
    "second_story = retrieveStory(\"1-2-3_test.csv\", 7, 37)[1]\n",
    "third_story = retrieveStory(\"1-2-3_test.csv\", 947, 67)[1]\n",
    "fourth_story = retrieveStory(\"2-3-4_test.csv\", 1081, 63)[1]\n",
    "fifth_story = retrieveStory(\"2-3-4_test.csv\", 1159, 63)[1]\n",
    "sixth_story = retrieveStory(\"2-3-4_test.csv\", 2150, 96)[1]\n",
    "seventh_story = retrieveStory(\"2-3-4_test.csv\", 2318, 10)[1]\n",
    "eighth_story = retrieveStory(\"2-3-4_test.csv\", 2583, 11)[1]"
   ]
  },
  {
   "cell_type": "code",
   "execution_count": 7,
   "metadata": {
    "collapsed": true
   },
   "outputs": [],
   "source": [
    "from textblob import TextBlob\n",
    "def sentimentAnalysis(story):\n",
    "    blob = TextBlob(story)\n",
    "    for sentence in blob.sentences:\n",
    "        return sentence.sentiment"
   ]
  },
  {
   "cell_type": "code",
   "execution_count": 8,
   "metadata": {
    "collapsed": true
   },
   "outputs": [],
   "source": [
    "stories = [first_story, second_story, third_story, fourth_story, fifth_story, sixth_story, seventh_story, eighth_story]\n",
    "story_sentiments = [sentimentAnalysis(story) for story in stories]"
   ]
  },
  {
   "cell_type": "code",
   "execution_count": 24,
   "metadata": {
    "collapsed": true
   },
   "outputs": [],
   "source": [
    "import sqlite3\n",
    "conn = sqlite3.connect('test.db')\n",
    "c = conn.cursor()\n",
    "def create_table():\n",
    "    c.execute('CREATE TABLE IF NOT EXISTS myTable(id INTEGER, score_index TEXT, lda_score REAL, lemmas TEXT, number_of_lemmas INTEGER, polarity_score REAL, subjectivity_score REAL)')\n",
    "\n",
    "create_table()\n"
   ]
  },
  {
   "cell_type": "code",
   "execution_count": 25,
   "metadata": {
    "collapsed": true
   },
   "outputs": [],
   "source": [
    "c.execute(\"INSERT INTO myTable(id, score_index, lda_score, lemmas, number_of_lemmas, polarity_score, subjectivity_score) VALUES(?, ?, ?, ?, ?, ?, ?)\", \n",
    "          (1, '2507, 22', retrieveStory(\"1-2-3_test.csv\", 2507, 23)[0], retrieveStory(\"1-2-3_test.csv\", 2507, 23)[1],\n",
    "           retrieveStory(\"1-2-3_test.csv\", 2507, 23)[2], story_sentiments[0][0], story_sentiments[0][1]))\n",
    "\n",
    "c.execute(\"INSERT INTO myTable(id, score_index, lda_score, lemmas, number_of_lemmas, polarity_score, subjectivity_score) VALUES(?, ?, ?, ?, ?, ?, ?)\", \n",
    "          (2, '7, 36', retrieveStory(\"1-2-3_test.csv\", 7, 37)[0], retrieveStory(\"1-2-3_test.csv\", 7, 37)[1],\n",
    "           retrieveStory(\"1-2-3_test.csv\", 7, 37)[2], story_sentiments[1][0], story_sentiments[1][1]))\n",
    "\n",
    "c.execute(\"INSERT INTO myTable(id, score_index, lda_score, lemmas, number_of_lemmas, polarity_score, subjectivity_score) VALUES(?, ?, ?, ?, ?, ?, ?)\", \n",
    "          (3, '947, 66', retrieveStory(\"1-2-3_test.csv\", 947, 67)[0], retrieveStory(\"1-2-3_test.csv\", 947, 67)[1],\n",
    "           retrieveStory(\"1-2-3_test.csv\", 947, 67)[2], story_sentiments[2][0], story_sentiments[2][1]))\n",
    "conn.commit()"
   ]
  },
  {
   "cell_type": "code",
   "execution_count": 27,
   "metadata": {
    "collapsed": true
   },
   "outputs": [],
   "source": [
    "import matplotlib.pyplot as plt\n",
    "%matplotlib inline"
   ]
  },
  {
   "cell_type": "code",
   "execution_count": 28,
   "metadata": {},
   "outputs": [
    {
     "data": {
      "text/plain": [
       "(3097, 105)"
      ]
     },
     "execution_count": 28,
     "metadata": {},
     "output_type": "execute_result"
    }
   ],
   "source": [
    "new_file = first_file.drop(first_file.index[0])\n",
    "new_file.shape\n"
   ]
  },
  {
   "cell_type": "code",
   "execution_count": 36,
   "metadata": {},
   "outputs": [
    {
     "data": {
      "text/plain": [
       "<Container object of 3097 artists>"
      ]
     },
     "execution_count": 36,
     "metadata": {},
     "output_type": "execute_result"
    },
    {
     "data": {
      "image/png": "[encoded data removed]",
      "text/plain": [
       "<matplotlib.figure.Figure at 0x10a4a8be0>"
      ]
     },
     "metadata": {},
     "output_type": "display_data"
    }
   ],
   "source": [
    "row = new_file.iloc[0]\n",
    "\n",
    "plt.bar(range(0,3097), new_file['-4'])\n"
   ]
  },
  {
   "cell_type": "code",
   "execution_count": 33,
   "metadata": {},
   "outputs": [
    {
     "data": {
      "text/plain": [
       "Unnamed: 0             1\n",
       "0                    NaN\n",
       "1                    NaN\n",
       "2                    NaN\n",
       "3                    NaN\n",
       "4                    NaN\n",
       "5                    NaN\n",
       "6                    NaN\n",
       "7                    NaN\n",
       "8                    NaN\n",
       "9                    NaN\n",
       "10                   NaN\n",
       "11                   NaN\n",
       "12                   NaN\n",
       "13                   NaN\n",
       "14                   NaN\n",
       "15                   NaN\n",
       "16                   NaN\n",
       "17                   NaN\n",
       "18                   NaN\n",
       "19                   NaN\n",
       "20                   NaN\n",
       "21                   NaN\n",
       "22                   NaN\n",
       "23                   NaN\n",
       "24                   NaN\n",
       "25                   NaN\n",
       "26                   NaN\n",
       "27                   NaN\n",
       "28                   NaN\n",
       "                 ...    \n",
       "74                   NaN\n",
       "75                   NaN\n",
       "76                   NaN\n",
       "77                   NaN\n",
       "78                   NaN\n",
       "79                   NaN\n",
       "80                   NaN\n",
       "81                 0.505\n",
       "82                   NaN\n",
       "83                   NaN\n",
       "84                   NaN\n",
       "85                   NaN\n",
       "86                   NaN\n",
       "87                   NaN\n",
       "88                   NaN\n",
       "89                   NaN\n",
       "90                   NaN\n",
       "91                   NaN\n",
       "92                   NaN\n",
       "93                   NaN\n",
       "94                   NaN\n",
       "95                   NaN\n",
       "96                   NaN\n",
       "97                   NaN\n",
       "98                   NaN\n",
       "99                   NaN\n",
       "-1            ['Rocket']\n",
       "-2                     1\n",
       "-3            ['rocket']\n",
       "-4                     1\n",
       "Name: 1, Length: 105, dtype: object"
      ]
     },
     "execution_count": 33,
     "metadata": {},
     "output_type": "execute_result"
    }
   ],
   "source": [
    "row\n",
    "\n"
   ]
  },
  {
   "cell_type": "code",
   "execution_count": null,
   "metadata": {
    "collapsed": true
   },
   "outputs": [],
   "source": []
  }
 ],
 "metadata": {
  "kernelspec": {
   "display_name": "Python 3",
   "language": "python",
   "name": "python3"
  },
  "language_info": {
   "codemirror_mode": {
    "name": "ipython",
    "version": 3
   },
   "file_extension": ".py",
   "mimetype": "text/x-python",
   "name": "python",
   "nbconvert_exporter": "python",
   "pygments_lexer": "ipython3",
   "version": "3.5.2"
  }
 },
 "nbformat": 4,
 "nbformat_minor": 2
}
