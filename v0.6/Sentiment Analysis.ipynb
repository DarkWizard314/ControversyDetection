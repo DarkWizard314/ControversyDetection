{
 "cells": [
  {
   "cell_type": "code",
   "execution_count": 77,
   "metadata": {
    "collapsed": true
   },
   "outputs": [],
   "source": [
    "import pandas as pd\n",
    "\n",
    "# importing the csv files which contains stories with lda_scores based on topics\n",
    "first_file = pd.read_csv(\"1-2-3_test.csv\")\n",
    "second_file = pd.read_csv(\"2-3-4_test.csv\")\n",
    "\n"
   ]
  },
  {
   "cell_type": "code",
   "execution_count": 85,
   "metadata": {
    "collapsed": true
   },
   "outputs": [],
   "source": [
    "def retrieveStory(file, row, column):\n",
    "    # This function takes a csv file's path, row numer and column number as input and then \n",
    "    # retrieves that story's lda_score, lemmas and number of lemmas as output \n",
    "    file = pd.read_csv(file)\n",
    "    score = file.iloc[row, column]\n",
    "    topic = file.iloc[0, column]\n",
    "    lemmas_in_story = file.iloc[row, -2]\n",
    "    number_of_lemmas = file.iloc[row, -1]\n",
    "    actual_words_in_story = file.iloc[row, -4]\n",
    "    number_of_actual_words = file.iloc[row, -3]\n",
    "#     print(\"Score: {}, Topic: {}, Number of Actual Words: {}, Actual Words in Story: {},Lemmas in Story: {}, Number of Lemmas: {}\"\n",
    "#           .format(score, topic, number_of_actual_words, actual_words_in_story, lemmas_in_story, number_of_lemmas))\n",
    "    return score, lemmas_in_story, number_of_lemmas, actual_words_in_story, number_of_actual_words, topic"
   ]
  },
  {
   "cell_type": "code",
   "execution_count": 86,
   "metadata": {},
   "outputs": [
    {
     "data": {
      "text/plain": [
       "('0.81838598709',\n",
       " \"['American', 'girl', 'new', 'doll', 'store', 'today', 'name', 'Leah', 'Clark', 'describe', '10-year-old', 'girl', 'visit', 'Brazil', 'photograph', 'animal', 'movie', 'three', 'book', 'ready', 'kid', 'knock', 'door', 'order']\",\n",
       " '24',\n",
       " \"['American', 'girl', 'has', 'a', 'new', 'doll', 'out', 'in', 'stores', 'today', '.', 'Her', 'name', 'is', 'Leah', 'Clark', '.', 'She', '&apos;s', 'described', 'as', 'a', '10-year-old', 'girl', 'who', 'visits', 'Brazil', 'and', 'photographs', 'animals', '.', 'There', '&apos;s', 'going', 'to', 'be', 'movie', 'and', 'three', 'books', 'about', 'her', '.', 'Get', 'ready', 'to', 'have', 'your', 'kids', 'knocking', 'down', 'your', 'door', 'to', 'order', 'that', '.']\",\n",
       " '57',\n",
       " '54-year-old conquer sheriff bloodworth pursuit Heights Lexus doll investigator girl')"
      ]
     },
     "execution_count": 86,
     "metadata": {},
     "output_type": "execute_result"
    }
   ],
   "source": [
    "# For example\n",
    "retrieveStory(\"1-2-3_test.csv\", 799, 48)"
   ]
  },
  {
   "cell_type": "code",
   "execution_count": 83,
   "metadata": {},
   "outputs": [],
   "source": [
    "#retrieveStory(\"2-3-4_test.csv\", 2583, 11)"
   ]
  },
  {
   "cell_type": "code",
   "execution_count": 98,
   "metadata": {},
   "outputs": [
    {
     "data": {
      "text/plain": [
       "('0.753327028209',\n",
       " \"['clean', 'biggest', 'party', 'year', 'easy', 'feat', 'science', '170', 'worker', 'clean', '48', 'ton', 'debris']\",\n",
       " '13',\n",
       " \"['Cleaning', 'up', 'after', 'the', 'biggest', 'party', 'of', 'the', 'year', 'is', 'no', 'easy', 'feat', '.', 'But', 'they', 'have', 'it', 'down', 'so', 'a', 'science', '.', '170', 'workers', 'got', 'it', 'done', '.', 'They', 'cleaned', 'up', '48', 'tons', 'of', 'debris', '.']\",\n",
       " '37',\n",
       " 'blooded Kennel JEB coaster pickup cam candidacy prosthetic brilliance fodder')"
      ]
     },
     "execution_count": 98,
     "metadata": {},
     "output_type": "execute_result"
    }
   ],
   "source": [
    "retrieveStory(\"1-2-3_test.csv\", 1442, 50)"
   ]
  },
  {
   "cell_type": "code",
   "execution_count": 149,
   "metadata": {
    "collapsed": true
   },
   "outputs": [],
   "source": [
    "#retrieveStory(\"2-3-4_test.csv\", 1081, 63)"
   ]
  },
  {
   "cell_type": "code",
   "execution_count": 150,
   "metadata": {
    "collapsed": true
   },
   "outputs": [],
   "source": [
    "#retrieveStory(\"2-3-4_test.csv\", 1159, 63)"
   ]
  },
  {
   "cell_type": "code",
   "execution_count": 153,
   "metadata": {
    "collapsed": true
   },
   "outputs": [],
   "source": [
    "#retrieveStory(\"2-3-4_test.csv\", 2150, 96)"
   ]
  },
  {
   "cell_type": "code",
   "execution_count": 151,
   "metadata": {
    "collapsed": true
   },
   "outputs": [],
   "source": [
    "#retrieveStory(\"2-3-4_test.csv\", 2318, 10)\n"
   ]
  },
  {
   "cell_type": "code",
   "execution_count": 99,
   "metadata": {},
   "outputs": [],
   "source": [
    "# Retrieving the lemmas from the notable stories\n",
    "first_story = retrieveStory(\"1-2-3_test.csv\", 799, 48)[1]\n",
    "second_story = retrieveStory(\"1-2-3_test.csv\", 953, 58)[1]\n",
    "third_story = retrieveStory(\"1-2-3_test.csv\", 955, 61)[1]\n",
    "fourth_story = retrieveStory(\"1-2-3_test.csv\", 960, 24)[1]\n",
    "fifth_story = retrieveStory(\"1-2-3_test.csv\", 976, 48)[1]\n",
    "sixth_story = retrieveStory(\"1-2-3_test.csv\", 1110, 58)[1]\n",
    "seventh_story = retrieveStory(\"1-2-3_test.csv\", 1117, 24)[1]\n",
    "#eighth_story = retrieveStory(\"2-3-4_test.csv\", 2583, 11)[1]"
   ]
  },
  {
   "cell_type": "code",
   "execution_count": 100,
   "metadata": {
    "collapsed": true
   },
   "outputs": [],
   "source": [
    "from textblob import TextBlob\n",
    "def sentimentAnalysis(story):\n",
    "    # This function takes the words of a story as input and gives a polarity and a subjectivity score as output\n",
    "    blob = TextBlob(story)\n",
    "    for sentence in blob.sentences:\n",
    "        return sentence.sentiment"
   ]
  },
  {
   "cell_type": "code",
   "execution_count": 102,
   "metadata": {},
   "outputs": [
    {
     "data": {
      "text/plain": [
       "[Sentiment(polarity=0.11212121212121212, subjectivity=0.3181818181818182),\n",
       " Sentiment(polarity=-0.25, subjectivity=0.45),\n",
       " Sentiment(polarity=0.4, subjectivity=0.45),\n",
       " Sentiment(polarity=0.2, subjectivity=0.2),\n",
       " Sentiment(polarity=0.11212121212121212, subjectivity=0.3181818181818182),\n",
       " Sentiment(polarity=-0.25, subjectivity=0.45),\n",
       " Sentiment(polarity=0.2, subjectivity=0.2),\n",
       " Sentiment(polarity=0.10913872948756671, subjectivity=0.507068190207725)]"
      ]
     },
     "execution_count": 102,
     "metadata": {},
     "output_type": "execute_result"
    }
   ],
   "source": [
    "stories = [first_story, second_story, third_story, fourth_story, fifth_story, sixth_story, seventh_story, eighth_story]\n",
    "# Using the texblob package to get a polarity score and a subjectivity score\n",
    "story_sentiments = [sentimentAnalysis(story) for story in stories]\n",
    "story_sentiments"
   ]
  },
  {
   "cell_type": "code",
   "execution_count": 106,
   "metadata": {
    "collapsed": true
   },
   "outputs": [],
   "source": [
    "# Building a small test sql database which contains the story id, insex, lda score, lemmas and number of lemmas\n",
    "import sqlite3\n",
    "conn = sqlite3.connect('test.db')\n",
    "c = conn.cursor()\n",
    "def create_table():\n",
    "    c.execute('CREATE TABLE IF NOT EXISTS myTable(id INTEGER, score_index TEXT, lda_score REAL, lemmas TEXT, number_of_lemmas INTEGER, polarity_score REAL, subjectivity_score REAL)')\n",
    "\n",
    "create_table()\n"
   ]
  },
  {
   "cell_type": "code",
   "execution_count": 107,
   "metadata": {
    "collapsed": true
   },
   "outputs": [],
   "source": [
    "# Adding data to the database\n",
    "\n",
    "c.execute(\"INSERT INTO myTable(id, score_index, lda_score, lemmas, number_of_lemmas, polarity_score, subjectivity_score) VALUES(?, ?, ?, ?, ?, ?, ?)\", \n",
    "          (1, '799, 48', retrieveStory(\"1-2-3_test.csv\", 799, 48)[0], retrieveStory(\"1-2-3_test.csv\", 799, 48)[1],\n",
    "           retrieveStory(\"1-2-3_test.csv\", 799, 48)[2], story_sentiments[0][0], story_sentiments[0][1]))\n",
    "\n",
    "c.execute(\"INSERT INTO myTable(id, score_index, lda_score, lemmas, number_of_lemmas, polarity_score, subjectivity_score) VALUES(?, ?, ?, ?, ?, ?, ?)\", \n",
    "          (2, '953, 58', retrieveStory(\"1-2-3_test.csv\", 953, 58)[0], retrieveStory(\"1-2-3_test.csv\", 953, 58)[1],\n",
    "           retrieveStory(\"1-2-3_test.csv\", 953, 58)[2], story_sentiments[1][0], story_sentiments[1][1]))\n",
    "\n",
    "c.execute(\"INSERT INTO myTable(id, score_index, lda_score, lemmas, number_of_lemmas, polarity_score, subjectivity_score) VALUES(?, ?, ?, ?, ?, ?, ?)\", \n",
    "          (3, '960, 24', retrieveStory(\"1-2-3_test.csv\", 960, 24)[0], retrieveStory(\"1-2-3_test.csv\", 960, 24)[1],\n",
    "           retrieveStory(\"1-2-3_test.csv\", 960, 24)[2], story_sentiments[2][0], story_sentiments[2][1]))\n",
    "conn.commit()"
   ]
  },
  {
   "cell_type": "code",
   "execution_count": 108,
   "metadata": {},
   "outputs": [
    {
     "data": {
      "text/plain": [
       "<Container object of 3097 artists>"
      ]
     },
     "execution_count": 108,
     "metadata": {},
     "output_type": "execute_result"
    },
    {
     "data": {
      "image/png": "[encoded data removed]",
      "text/plain": [
       "<matplotlib.figure.Figure at 0x123fbef98>"
      ]
     },
     "metadata": {},
     "output_type": "display_data"
    }
   ],
   "source": [
    "import matplotlib.pyplot as plt\n",
    "%matplotlib inline\n",
    "new_file = first_file.drop(first_file.index[0])\n",
    "new_file.shape\n",
    "row = new_file.iloc[0]\n",
    "plt.bar(range(0,3097), new_file['-4'])\n"
   ]
  },
  {
   "cell_type": "code",
   "execution_count": 109,
   "metadata": {},
   "outputs": [],
   "source": [
    "from wnaffect import WNAffect\n",
    "from emotion import Emotion\n",
    "import nltk\n",
    "wna = WNAffect('wordnet-1.6/', 'wn-domains-3.2/')\n"
   ]
  },
  {
   "cell_type": "code",
   "execution_count": 110,
   "metadata": {},
   "outputs": [],
   "source": [
    "from ast import literal_eval as le\n",
    "\n",
    "def posTag(story):\n",
    "    # This funtion takes a list of words as an input and returns the pos tags of those words as output\n",
    "    make_list = le(story)\n",
    "    return nltk.pos_tag(make_list)"
   ]
  },
  {
   "cell_type": "code",
   "execution_count": 111,
   "metadata": {},
   "outputs": [],
   "source": [
    "pos_first_story = posTag(first_story)\n",
    "pos_second_story = posTag(second_story)\n",
    "pos_third_story = posTag(third_story)\n",
    "pos_fourth_story = posTag(fourth_story)\n",
    "pos_stories = [pos_first_story, pos_second_story, pos_third_story, pos_fourth_story]"
   ]
  },
  {
   "cell_type": "code",
   "execution_count": 113,
   "metadata": {},
   "outputs": [
    {
     "name": "stdout",
     "output_type": "stream",
     "text": [
      "American NNP\n",
      "None\n",
      "girl VBD\n",
      "None\n",
      "new JJ\n",
      "None\n",
      "doll NN\n",
      "None\n",
      "store NN\n",
      "None\n",
      "today NN\n",
      "None\n",
      "name NN\n",
      "None\n",
      "Leah NNP\n",
      "None\n",
      "Clark NNP\n",
      "None\n",
      "describe VBZ\n",
      "None\n",
      "10-year-old JJ\n",
      "None\n",
      "girl JJ\n",
      "None\n",
      "visit NN\n",
      "None\n",
      "Brazil NNP\n",
      "None\n",
      "photograph NN\n",
      "None\n",
      "animal NN\n",
      "None\n",
      "movie NN\n",
      "None\n",
      "three CD\n",
      "None\n",
      "book NN\n",
      "None\n",
      "ready JJ\n",
      "None\n",
      "kid NN\n",
      "None\n",
      "knock VB\n",
      "None\n",
      "door NN\n",
      "None\n",
      "order NN\n",
      "None\n",
      "mom NN\n",
      "None\n",
      "so-called JJ\n",
      "None\n",
      "Affluenza NNP\n",
      "None\n",
      "teen NN\n",
      "None\n",
      "hold VBD\n",
      "None\n",
      "$ $\n",
      "None\n",
      "1 CD\n",
      "None\n",
      "million CD\n",
      "None\n",
      "bond NN\n",
      "None\n",
      "attorney NN\n",
      "None\n",
      "say VBP\n",
      "None\n",
      "anything NN\n",
      "None\n",
      "wrong JJ\n",
      "None\n",
      "explain NN\n",
      "None\n",
      "welcome VB\n",
      "None\n",
      "back RB\n",
      "None\n",
      "everyone NN\n",
      "None\n",
      "t NN\n",
      "None\n",
      "prosecutor NN\n",
      "None\n",
      "Texas NNP\n",
      "None\n",
      "charge NN\n",
      "bang\n",
      "Tonya NNP\n",
      "None\n",
      "couch JJ\n",
      "None\n",
      "hinder NN\n",
      "None\n",
      "apprehension NN\n",
      "apprehension\n",
      "felon NN\n",
      "None\n",
      "hold VBP\n",
      "None\n",
      "L.A. NNP\n",
      "None\n",
      "$ $\n",
      "None\n",
      "1 CD\n",
      "None\n",
      "million CD\n",
      "None\n",
      "bond NN\n",
      "None\n",
      "now RB\n",
      "None\n",
      "couch JJ\n",
      "None\n",
      "accuse NN\n",
      "None\n",
      "help NN\n",
      "None\n",
      "son NN\n",
      "None\n",
      "Ethan NNP\n",
      "None\n",
      "flee NN\n",
      "None\n",
      "Mexico NNP\n",
      "None\n",
      "still RB\n",
      "None\n",
      "fight VBD\n",
      "None\n",
      "deportation NN\n",
      "None\n",
      "back RB\n",
      "None\n",
      "U.S. NNP\n",
      "None\n",
      "probation NN\n",
      "None\n",
      "kill VB\n",
      "None\n",
      "four CD\n",
      "None\n",
      "people NNS\n",
      "None\n",
      "drunk VBP\n",
      "None\n",
      "driving VBG\n",
      "None\n",
      "crash NN\n",
      "None\n",
      "2013 CD\n",
      "None\n",
      "16 CD\n",
      "None\n",
      "Sheriff JJ\n",
      "None\n",
      "deputy NNS\n",
      "None\n",
      "say VBP\n",
      "None\n",
      "skip JJ\n",
      "None\n",
      "town NN\n",
      "None\n",
      "may MD\n",
      "None\n",
      "violate VB\n",
      "None\n",
      "parole NN\n",
      "None\n",
      "CAITLYN NNP\n",
      "None\n",
      "Jenner NNP\n",
      "None\n",
      "resolve VB\n",
      "None\n",
      "lawsuit NN\n",
      "None\n",
      "connect NN\n",
      "None\n",
      "fatal JJ\n",
      "None\n",
      "car NN\n",
      "None\n",
      "crash NN\n",
      "None\n",
      "cause NN\n",
      "None\n",
      "legal JJ\n",
      "None\n",
      "problem NN\n",
      "None\n"
     ]
    }
   ],
   "source": [
    "for story in pos_stories:\n",
    "    for word, pos in story:\n",
    "        print(word, pos)\n",
    "        emo = wna.get_emotion(word, pos)\n",
    "        print(emo)\n",
    "\n",
    "    #print(' -> '.join([emo.get_level(i).name for i in range(emo.level + 1)]))\n"
   ]
  },
  {
   "cell_type": "code",
   "execution_count": null,
   "metadata": {},
   "outputs": [],
   "source": [
    "text = (\"\")"
   ]
  },
  {
   "cell_type": "code",
   "execution_count": null,
   "metadata": {},
   "outputs": [],
   "source": []
  },
  {
   "cell_type": "code",
   "execution_count": null,
   "metadata": {},
   "outputs": [],
   "source": []
  },
  {
   "cell_type": "code",
   "execution_count": null,
   "metadata": {},
   "outputs": [],
   "source": []
  },
  {
   "cell_type": "code",
   "execution_count": null,
   "metadata": {},
   "outputs": [],
   "source": []
  },
  {
   "cell_type": "code",
   "execution_count": null,
   "metadata": {
    "collapsed": true
   },
   "outputs": [],
   "source": []
  }
 ],
 "metadata": {
  "kernelspec": {
   "display_name": "Python 3",
   "language": "python",
   "name": "python3"
  },
  "language_info": {
   "codemirror_mode": {
    "name": "ipython",
    "version": 3
   },
   "file_extension": ".py",
   "mimetype": "text/x-python",
   "name": "python",
   "nbconvert_exporter": "python",
   "pygments_lexer": "ipython3",
   "version": "3.5.2"
  }
 },
 "nbformat": 4,
 "nbformat_minor": 2
}
