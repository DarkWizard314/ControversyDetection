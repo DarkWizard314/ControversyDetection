{
 "cells": [
  {
   "cell_type": "code",
   "execution_count": 141,
   "metadata": {},
   "outputs": [],
   "source": [
    "import pandas as pd\n",
    "\n",
    "# importing the csv files which contains stories with lda_scores based on topics\n",
    "first_file = pd.read_csv(\"1-2-3_test.csv\")\n",
    "#second_file = pd.read_csv(\"2-3-4_test.csv\")\n",
    "\n"
   ]
  },
  {
   "cell_type": "code",
   "execution_count": 156,
   "metadata": {},
   "outputs": [
    {
     "name": "stdout",
     "output_type": "stream",
     "text": [
      "Score:0.812430800361, Lemmas in Story:['new', '5:00', 'Chris', 'Brown', 'accuse', 'assault', 'woman', 'Las', 'Vegas', 'Hotel', 'Tchl', 'Associated', 'Press', 'say', 'assault', 'happen', 'palm', 'casino', 'resort', 'morning', 'Las', 'Vegas', 'police', 'receive', 'call', '10:30', 'morning', 'police', 'release', 'detail', 'say', 'investigation', 'ongoing', 'far', 'Brown', 'attorney', 'publicist', 'release', 'comment'], Lemma Count:39\n"
     ]
    }
   ],
   "source": [
    "print(\"Score:{}, Lemmas in Story:{}, Lemma Count:{}\"\n",
    "      .format(first_file.iloc[1884, 11], first_file.iloc[1884, -2], first_file.iloc[1884, -1]))\n"
   ]
  },
  {
   "cell_type": "code",
   "execution_count": 157,
   "metadata": {
    "collapsed": true
   },
   "outputs": [],
   "source": [
    "def retrieveStory(file, row, column):\n",
    "    # This function takes a csv file's path, row numer and column number as input and then \n",
    "    # retrieves that story's lda_score, lemmas and number of lemmas as output \n",
    "    file = pd.read_csv(file)\n",
    "    score = file.iloc[row, column]\n",
    "    #topic = file.iloc[0, column]\n",
    "    lemmas_in_story = file.iloc[row, -2]\n",
    "    number_of_lemmas = file.iloc[row, -1]\n",
    "    #actual_words_in_story = file.iloc[row, -4]\n",
    "    #number_of_actual_words = file.iloc[row, -3]\n",
    "#     print(\"Score: {}, Topic: {}, Number of Actual Words: {}, Actual Words in Story: {},Lemmas in Story: {}, Number of Lemmas: {}\"\n",
    "#           .format(score, topic, number_of_actual_words, actual_words_in_story, lemmas_in_story, number_of_lemmas))\n",
    "    return score, lemmas_in_story, number_of_lemmas #, actual_words_in_story, number_of_actual_words, topic"
   ]
  },
  {
   "cell_type": "code",
   "execution_count": 158,
   "metadata": {},
   "outputs": [
    {
     "data": {
      "text/plain": [
       "(0.81243080036100002,\n",
       " \"['new', '5:00', 'Chris', 'Brown', 'accuse', 'assault', 'woman', 'Las', 'Vegas', 'Hotel', 'Tchl', 'Associated', 'Press', 'say', 'assault', 'happen', 'palm', 'casino', 'resort', 'morning', 'Las', 'Vegas', 'police', 'receive', 'call', '10:30', 'morning', 'police', 'release', 'detail', 'say', 'investigation', 'ongoing', 'far', 'Brown', 'attorney', 'publicist', 'release', 'comment']\",\n",
       " 39)"
      ]
     },
     "execution_count": 158,
     "metadata": {},
     "output_type": "execute_result"
    }
   ],
   "source": [
    "# For example\n",
    "retrieveStory(\"1-2-3_test.csv\", 1884, 11)"
   ]
  },
  {
   "cell_type": "code",
   "execution_count": 161,
   "metadata": {},
   "outputs": [
    {
     "data": {
      "text/plain": [
       "(0.73129283818599999,\n",
       " \"['police', 'Las', 'Vegas', 'investigate', 'Chris', 'Brown', 'possibly', 'assault', 'woman', 'hotel', 'room', 'Associated', 'Press', 'say', 'happen', 'palm', 'casino', 'resort', 'morning', 'Las', 'Vegas', 'police', 'receive', 'call', 'just', '10:30', 'police', 'release', 'detail', 'say', 'investigation', 'ongoing', 'far', 'Brown', 'attorney', 'publicist', 'release', 'comment']\",\n",
       " 38)"
      ]
     },
     "execution_count": 161,
     "metadata": {},
     "output_type": "execute_result"
    }
   ],
   "source": [
    "retrieveStory(\"1-2-3_test.csv\", 1953, 11)"
   ]
  },
  {
   "cell_type": "code",
   "execution_count": 160,
   "metadata": {},
   "outputs": [
    {
     "data": {
      "text/plain": [
       "(0.80533796456899998,\n",
       " \"['Inland', 'regional', 'center', 'site', 'San', 'Bernardino', 'terror', 'attack', 'reopen', 'Monday', 'increase', 'security', 'measure', 'place', 'conference', 'center', 'attack', 'occur', 'remain', 'closed']\",\n",
       " 20)"
      ]
     },
     "execution_count": 160,
     "metadata": {},
     "output_type": "execute_result"
    }
   ],
   "source": [
    "retrieveStory(\"1-2-3_test.csv\", 1968, 27)"
   ]
  },
  {
   "cell_type": "code",
   "execution_count": 162,
   "metadata": {},
   "outputs": [
    {
     "data": {
      "text/plain": [
       "(0.72804855253400003,\n",
       " \"['Chris', 'Brown', 'accuse', 'assault', 'woman', 'Las', 'Vegas', 'hotel', 'alleged', 'assault', 'happen', 'resort', 'receive', 'call', 'just', '10:30', 'morning', 'try', 'talk', 'brown', 'hotel', 'police', 'say', 'investigation', 'ongoing', 'far', 'Brown', 'attorney', 'publicist', 'release', 'comment']\",\n",
       " 31)"
      ]
     },
     "execution_count": 162,
     "metadata": {},
     "output_type": "execute_result"
    }
   ],
   "source": [
    "retrieveStory(\"1-2-3_test.csv\", 2032, 11)"
   ]
  },
  {
   "cell_type": "code",
   "execution_count": 163,
   "metadata": {},
   "outputs": [
    {
     "data": {
      "text/plain": [
       "(0.72768122166299998,\n",
       " \"['welcome', 'back', 'Chris', 'Brown', 'accuse', 'assault', 'woman', 'Las', 'Vegas', 'hotel', 'alleged', 'assault', 'happen', 'palm', 'casino', 'resort', 'Las', 'Vegas', 'police', 'receive', 'call', 'just', '10:30', 'yesterday', 'morning', 'try', 'talk', 'brown', 'hotel', 'police', 'say', 'investigation', 'ongoing', 'far', 'Brown', 'attorney', 'publicist', 'release', 'comment']\",\n",
       " 39)"
      ]
     },
     "execution_count": 163,
     "metadata": {},
     "output_type": "execute_result"
    }
   ],
   "source": [
    "retrieveStory(\"1-2-3_test.csv\", 2283, 11)"
   ]
  },
  {
   "cell_type": "code",
   "execution_count": 167,
   "metadata": {},
   "outputs": [
    {
     "data": {
      "text/plain": [
       "(0.82589196159899991,\n",
       " \"['new', 'year', 'new', 'era', 'today', 'city', 'swear', '66th', 'mayor', 'channel3', 'Horanski', 'talk', 'mayor', 'mind', 'city', 'Dan', 'Horrigan', 'Democrat', 'happy', 'new', 'year', 'today', 'Dan', 'Horrigan', 'talk', 'build', 'ago', 'new', 'Akron', 'one', 'bigger', 'better', 'stronger', 'one', 'can', 'compete', 'globally', 'ask', 'every', 'single', 'day', 'comfortable', 'simply', 'manage', 'population', 'decline', 'impact', 'prepare', 'make', 'commitment', 'today', 'right', 'believe', 'Akron', 'poise', 'insate', 'innovate', 'grow', 'community', 'lot', 'last', 'year', 'major', 'Don', 'Pasquela', 'announce', 'resignation', 'replacement', 'later', 'step', 'amidst', 'scandal', 'Mayor', 'Horrigan', 'describe', 'Akron', 'city', 'cross', 'road', 'much', 'like', 'year', 'ago', 'say', 'city', 'can', 'benefit', 'now', 'change']\",\n",
       " 89)"
      ]
     },
     "execution_count": 167,
     "metadata": {},
     "output_type": "execute_result"
    }
   ],
   "source": [
    "retrieveStory(\"1-2-3_test.csv\", 1262, 67)"
   ]
  },
  {
   "cell_type": "code",
   "execution_count": 151,
   "metadata": {
    "collapsed": true
   },
   "outputs": [],
   "source": [
    "#retrieveStory(\"2-3-4_test.csv\", 2318, 10)\n"
   ]
  },
  {
   "cell_type": "code",
   "execution_count": 168,
   "metadata": {},
   "outputs": [],
   "source": [
    "# Retrieving the lemmas from the notable stories\n",
    "first_story = retrieveStory(\"1-2-3_test.csv\", 1884, 11)[1]\n",
    "second_story = retrieveStory(\"1-2-3_test.csv\", 1968, 27)[1]\n",
    "third_story = retrieveStory(\"1-2-3_test.csv\", 1953, 11)[1]\n",
    "fourth_story = retrieveStory(\"1-2-3_test.csv\", 2032, 11)[1]\n",
    "fifth_story = retrieveStory(\"1-2-3_test.csv\", 2283, 11)[1]\n",
    "sixth_story = retrieveStory(\"1-2-3_test.csv\", 1262, 67)[1]\n",
    "#seventh_story = retrieveStory(\"1-2-3_test.csv\", 1117, 24)[1]\n",
    "#eighth_story = retrieveStory(\"2-3-4_test.csv\", 2583, 11)[1]"
   ]
  },
  {
   "cell_type": "code",
   "execution_count": 169,
   "metadata": {
    "collapsed": true
   },
   "outputs": [],
   "source": [
    "from textblob import TextBlob\n",
    "def sentimentAnalysis(story):\n",
    "    # This function takes the words of a story as input and gives a polarity and a subjectivity score as output\n",
    "    blob = TextBlob(story)\n",
    "    for sentence in blob.sentences:\n",
    "        return sentence.sentiment"
   ]
  },
  {
   "cell_type": "code",
   "execution_count": 131,
   "metadata": {},
   "outputs": [
    {
     "data": {
      "text/plain": [
       "Sentiment(polarity=0.5, subjectivity=0.6)"
      ]
     },
     "execution_count": 131,
     "metadata": {},
     "output_type": "execute_result"
    }
   ],
   "source": [
    "#sentimentAnalysis(\"I love this thing\")"
   ]
  },
  {
   "cell_type": "code",
   "execution_count": 171,
   "metadata": {},
   "outputs": [
    {
     "data": {
      "text/plain": [
       "[Sentiment(polarity=0.11818181818181818, subjectivity=0.7272727272727273),\n",
       " Sentiment(polarity=-0.10000000000000002, subjectivity=0.10000000000000002),\n",
       " Sentiment(polarity=0.05, subjectivity=1.0),\n",
       " Sentiment(polarity=0.0, subjectivity=0.55),\n",
       " Sentiment(polarity=0.2, subjectivity=0.5),\n",
       " Sentiment(polarity=0.16013177998472117, subjectivity=0.3818818436465495)]"
      ]
     },
     "execution_count": 171,
     "metadata": {},
     "output_type": "execute_result"
    }
   ],
   "source": [
    "stories = [first_story, second_story, third_story, fourth_story, fifth_story, sixth_story]#, seventh_story, eighth_story]\n",
    "# Using the texblob package to get a polarity score and a subjectivity score\n",
    "story_sentiments = [sentimentAnalysis(story) for story in stories]\n",
    "story_sentiments"
   ]
  },
  {
   "cell_type": "code",
   "execution_count": 106,
   "metadata": {
    "collapsed": true
   },
   "outputs": [],
   "source": [
    "# Building a small test sql database which contains the story id, insex, lda score, lemmas and number of lemmas\n",
    "import sqlite3\n",
    "conn = sqlite3.connect('test.db')\n",
    "c = conn.cursor()\n",
    "def create_table():\n",
    "    c.execute('CREATE TABLE IF NOT EXISTS myTable(id INTEGER, score_index TEXT, lda_score REAL, lemmas TEXT, number_of_lemmas INTEGER, polarity_score REAL, subjectivity_score REAL)')\n",
    "\n",
    "create_table()\n"
   ]
  },
  {
   "cell_type": "code",
   "execution_count": 107,
   "metadata": {
    "collapsed": true
   },
   "outputs": [],
   "source": [
    "# Adding data to the database\n",
    "\n",
    "c.execute(\"INSERT INTO myTable(id, score_index, lda_score, lemmas, number_of_lemmas, polarity_score, subjectivity_score) VALUES(?, ?, ?, ?, ?, ?, ?)\", \n",
    "          (1, '799, 48', retrieveStory(\"1-2-3_test.csv\", 799, 48)[0], retrieveStory(\"1-2-3_test.csv\", 799, 48)[1],\n",
    "           retrieveStory(\"1-2-3_test.csv\", 799, 48)[2], story_sentiments[0][0], story_sentiments[0][1]))\n",
    "\n",
    "c.execute(\"INSERT INTO myTable(id, score_index, lda_score, lemmas, number_of_lemmas, polarity_score, subjectivity_score) VALUES(?, ?, ?, ?, ?, ?, ?)\", \n",
    "          (2, '953, 58', retrieveStory(\"1-2-3_test.csv\", 953, 58)[0], retrieveStory(\"1-2-3_test.csv\", 953, 58)[1],\n",
    "           retrieveStory(\"1-2-3_test.csv\", 953, 58)[2], story_sentiments[1][0], story_sentiments[1][1]))\n",
    "\n",
    "c.execute(\"INSERT INTO myTable(id, score_index, lda_score, lemmas, number_of_lemmas, polarity_score, subjectivity_score) VALUES(?, ?, ?, ?, ?, ?, ?)\", \n",
    "          (3, '960, 24', retrieveStory(\"1-2-3_test.csv\", 960, 24)[0], retrieveStory(\"1-2-3_test.csv\", 960, 24)[1],\n",
    "           retrieveStory(\"1-2-3_test.csv\", 960, 24)[2], story_sentiments[2][0], story_sentiments[2][1]))\n",
    "conn.commit()"
   ]
  },
  {
   "cell_type": "code",
   "execution_count": 177,
   "metadata": {},
   "outputs": [
    {
     "data": {
      "text/plain": [
       "<Container object of 2431 artists>"
      ]
     },
     "execution_count": 177,
     "metadata": {},
     "output_type": "execute_result"
    },
    {
     "data": {
      "image/png": "[encoded data removed]",
      "text/plain": [
       "<matplotlib.figure.Figure at 0x10bb35cc0>"
      ]
     },
     "metadata": {},
     "output_type": "display_data"
    }
   ],
   "source": [
    "import matplotlib.pyplot as plt\n",
    "%matplotlib inline\n",
    "new_file = first_file.drop(first_file.index[0])\n",
    "new_file.shape\n",
    "row = new_file.iloc[0]\n",
    "plt.bar(range(0,2431), new_file['-4'])\n"
   ]
  },
  {
   "cell_type": "code",
   "execution_count": 178,
   "metadata": {},
   "outputs": [],
   "source": [
    "from wnaffect import WNAffect\n",
    "from emotion import Emotion\n",
    "import nltk\n",
    "wna = WNAffect('wordnet-1.6/', 'wn-domains-3.2/')\n"
   ]
  },
  {
   "cell_type": "code",
   "execution_count": 179,
   "metadata": {},
   "outputs": [],
   "source": [
    "from ast import literal_eval as le\n",
    "\n",
    "def posTag(story):\n",
    "    # This funtion takes a list of words as an input and returns the pos tags of those words as output\n",
    "    make_list = le(story)\n",
    "    return nltk.pos_tag(make_list)"
   ]
  },
  {
   "cell_type": "code",
   "execution_count": null,
   "metadata": {
    "collapsed": true
   },
   "outputs": [],
   "source": []
  },
  {
   "cell_type": "code",
   "execution_count": 180,
   "metadata": {},
   "outputs": [],
   "source": [
    "pos_first_story = posTag(first_story)\n",
    "pos_second_story = posTag(second_story)\n",
    "pos_third_story = posTag(third_story)\n",
    "pos_fourth_story = posTag(fourth_story)\n",
    "pos_stories = [pos_first_story, pos_second_story, pos_third_story, pos_fourth_story]"
   ]
  },
  {
   "cell_type": "code",
   "execution_count": 181,
   "metadata": {},
   "outputs": [
    {
     "name": "stdout",
     "output_type": "stream",
     "text": [
      "new JJ\n",
      "None\n",
      "5:00 CD\n",
      "None\n",
      "Chris NNP\n",
      "None\n",
      "Brown NNP\n",
      "None\n",
      "accuse RB\n",
      "None\n",
      "assault VBZ\n",
      "None\n",
      "woman NN\n",
      "None\n",
      "Las NNP\n",
      "None\n",
      "Vegas NNP\n",
      "None\n",
      "Hotel NNP\n",
      "None\n",
      "Tchl NNP\n",
      "None\n",
      "Associated NNP\n",
      "None\n",
      "Press NNP\n",
      "None\n",
      "say VBP\n",
      "None\n",
      "assault NN\n",
      "None\n",
      "happen JJ\n",
      "None\n",
      "palm NN\n",
      "None\n",
      "casino NN\n",
      "None\n",
      "resort NN\n",
      "None\n",
      "morning NN\n",
      "None\n",
      "Las NNP\n",
      "None\n",
      "Vegas NNP\n",
      "None\n",
      "police NNS\n",
      "None\n",
      "receive VBP\n",
      "None\n",
      "call NN\n",
      "None\n",
      "10:30 CD\n",
      "None\n",
      "morning NN\n",
      "None\n",
      "police NN\n",
      "None\n",
      "release NN\n",
      "None\n",
      "detail NN\n",
      "None\n",
      "say VBP\n",
      "None\n",
      "investigation NN\n",
      "None\n",
      "ongoing VBG\n",
      "None\n",
      "far RB\n",
      "None\n",
      "Brown NNP\n",
      "None\n",
      "attorney NN\n",
      "None\n",
      "publicist NN\n",
      "None\n",
      "release NN\n",
      "None\n",
      "comment NN\n",
      "None\n",
      "Inland NNP\n",
      "None\n",
      "regional JJ\n",
      "None\n",
      "center NN\n",
      "None\n",
      "site NN\n",
      "None\n",
      "San NNP\n",
      "None\n",
      "Bernardino NNP\n",
      "None\n",
      "terror NN\n",
      "panic\n",
      "attack NN\n",
      "None\n",
      "reopen NN\n",
      "None\n",
      "Monday NNP\n",
      "None\n",
      "increase NN\n",
      "None\n",
      "security NN\n",
      "security\n",
      "measure NN\n",
      "None\n",
      "place NN\n",
      "None\n",
      "conference NN\n",
      "None\n",
      "center NN\n",
      "None\n",
      "attack NN\n",
      "None\n",
      "occur NN\n",
      "None\n",
      "remain VBP\n",
      "None\n",
      "closed JJ\n",
      "None\n",
      "police NNS\n",
      "None\n",
      "Las NNP\n",
      "None\n",
      "Vegas NNP\n",
      "None\n",
      "investigate VB\n",
      "None\n",
      "Chris NNP\n",
      "None\n",
      "Brown NNP\n",
      "None\n",
      "possibly RB\n",
      "None\n",
      "assault VBZ\n",
      "None\n",
      "woman NN\n",
      "None\n",
      "hotel NN\n",
      "None\n",
      "room NN\n",
      "None\n",
      "Associated NNP\n",
      "None\n",
      "Press NNP\n",
      "None\n",
      "say VBP\n",
      "None\n",
      "happen JJ\n",
      "None\n",
      "palm NN\n",
      "None\n",
      "casino NN\n",
      "None\n",
      "resort NN\n",
      "None\n",
      "morning NN\n",
      "None\n",
      "Las NNP\n",
      "None\n",
      "Vegas NNP\n",
      "None\n",
      "police NNS\n",
      "None\n",
      "receive VBP\n",
      "None\n",
      "call NN\n",
      "None\n",
      "just RB\n",
      "None\n",
      "10:30 CD\n",
      "None\n",
      "police NNS\n",
      "None\n",
      "release NN\n",
      "None\n",
      "detail NN\n",
      "None\n",
      "say VBP\n",
      "None\n",
      "investigation NN\n",
      "None\n",
      "ongoing VBG\n",
      "None\n",
      "far RB\n",
      "None\n",
      "Brown NNP\n",
      "None\n",
      "attorney NN\n",
      "None\n",
      "publicist NN\n",
      "None\n",
      "release NN\n",
      "None\n",
      "comment NN\n",
      "None\n",
      "Chris NNP\n",
      "None\n",
      "Brown NNP\n",
      "None\n",
      "accuse RB\n",
      "None\n",
      "assault VBZ\n",
      "None\n",
      "woman NN\n",
      "None\n",
      "Las NNP\n",
      "None\n",
      "Vegas NNP\n",
      "None\n",
      "hotel NN\n",
      "None\n",
      "alleged VBD\n",
      "None\n",
      "assault NN\n",
      "None\n",
      "happen VB\n",
      "None\n",
      "resort NN\n",
      "None\n",
      "receive VB\n",
      "None\n",
      "call NN\n",
      "None\n",
      "just RB\n",
      "None\n",
      "10:30 CD\n",
      "None\n",
      "morning NN\n",
      "None\n",
      "try NN\n",
      "None\n",
      "talk VB\n",
      "None\n",
      "brown JJ\n",
      "None\n",
      "hotel NN\n",
      "None\n",
      "police NNS\n",
      "None\n",
      "say VBP\n",
      "None\n",
      "investigation NN\n",
      "None\n",
      "ongoing VBG\n",
      "None\n",
      "far RB\n",
      "None\n",
      "Brown NNP\n",
      "None\n",
      "attorney NN\n",
      "None\n",
      "publicist NN\n",
      "None\n",
      "release NN\n",
      "None\n",
      "comment NN\n",
      "None\n"
     ]
    }
   ],
   "source": [
    "for story in pos_stories:\n",
    "    for word, pos in story:\n",
    "        print(word, pos)\n",
    "        emo = wna.get_emotion(word, pos)\n",
    "        print(emo)\n",
    "\n",
    "    #print(' -> '.join([emo.get_level(i).name for i in range(emo.level + 1)]))\n"
   ]
  },
  {
   "cell_type": "code",
   "execution_count": 134,
   "metadata": {},
   "outputs": [
    {
     "data": {
      "text/plain": [
       "str"
      ]
     },
     "execution_count": 134,
     "metadata": {},
     "output_type": "execute_result"
    }
   ],
   "source": [
    "raw = open('placebo_test.txt').read()\n",
    "type(raw)"
   ]
  },
  {
   "cell_type": "code",
   "execution_count": 135,
   "metadata": {},
   "outputs": [
    {
     "data": {
      "text/plain": [
       "['I', 'hate', 'this', 'thing']"
      ]
     },
     "execution_count": 135,
     "metadata": {},
     "output_type": "execute_result"
    }
   ],
   "source": [
    "text = nltk.word_tokenize(raw)\n",
    "text"
   ]
  },
  {
   "cell_type": "code",
   "execution_count": 136,
   "metadata": {},
   "outputs": [],
   "source": [
    "pos_text = nltk.pos_tag(text)"
   ]
  },
  {
   "cell_type": "code",
   "execution_count": 137,
   "metadata": {},
   "outputs": [
    {
     "name": "stdout",
     "output_type": "stream",
     "text": [
      "I PRP\n",
      "None\n",
      "hate VBP\n",
      "hate\n",
      "this DT\n",
      "None\n",
      "thing NN\n",
      "thing\n"
     ]
    }
   ],
   "source": [
    "for word, pos in pos_text:\n",
    "    print(word, pos)\n",
    "    emo = wna.get_emotion(word, pos)\n",
    "    print(emo)"
   ]
  },
  {
   "cell_type": "code",
   "execution_count": 138,
   "metadata": {},
   "outputs": [
    {
     "data": {
      "text/plain": [
       "Sentiment(polarity=-0.8, subjectivity=0.9)"
      ]
     },
     "execution_count": 138,
     "metadata": {},
     "output_type": "execute_result"
    }
   ],
   "source": [
    "sentimentAnalysis(raw)"
   ]
  },
  {
   "cell_type": "code",
   "execution_count": 127,
   "metadata": {},
   "outputs": [
    {
     "data": {
      "text/html": [
       "<div>\n",
       "<style>\n",
       "    .dataframe thead tr:only-child th {\n",
       "        text-align: right;\n",
       "    }\n",
       "\n",
       "    .dataframe thead th {\n",
       "        text-align: left;\n",
       "    }\n",
       "\n",
       "    .dataframe tbody tr th {\n",
       "        vertical-align: top;\n",
       "    }\n",
       "</style>\n",
       "<table border=\"1\" class=\"dataframe\">\n",
       "  <thead>\n",
       "    <tr style=\"text-align: right;\">\n",
       "      <th></th>\n",
       "      <th>Unnamed: 0</th>\n",
       "      <th>0</th>\n",
       "      <th>1</th>\n",
       "      <th>2</th>\n",
       "      <th>3</th>\n",
       "      <th>4</th>\n",
       "      <th>5</th>\n",
       "      <th>6</th>\n",
       "      <th>7</th>\n",
       "      <th>8</th>\n",
       "      <th>...</th>\n",
       "      <th>94</th>\n",
       "      <th>95</th>\n",
       "      <th>96</th>\n",
       "      <th>97</th>\n",
       "      <th>98</th>\n",
       "      <th>99</th>\n",
       "      <th>-1</th>\n",
       "      <th>-2</th>\n",
       "      <th>-3</th>\n",
       "      <th>-4</th>\n",
       "    </tr>\n",
       "  </thead>\n",
       "  <tbody>\n",
       "    <tr>\n",
       "      <th>2702</th>\n",
       "      <td>2702</td>\n",
       "      <td>NaN</td>\n",
       "      <td>NaN</td>\n",
       "      <td>NaN</td>\n",
       "      <td>NaN</td>\n",
       "      <td>NaN</td>\n",
       "      <td>0.0319382305354</td>\n",
       "      <td>NaN</td>\n",
       "      <td>NaN</td>\n",
       "      <td>NaN</td>\n",
       "      <td>...</td>\n",
       "      <td>NaN</td>\n",
       "      <td>NaN</td>\n",
       "      <td>NaN</td>\n",
       "      <td>NaN</td>\n",
       "      <td>NaN</td>\n",
       "      <td>0.0796610136462</td>\n",
       "      <td>['And', 'a', 'politician', 'may', 'have', 'bee...</td>\n",
       "      <td>1301</td>\n",
       "      <td>['politician', 'may', 'victim', 'assassination...</td>\n",
       "      <td>579</td>\n",
       "    </tr>\n",
       "    <tr>\n",
       "      <th>1652</th>\n",
       "      <td>1652</td>\n",
       "      <td>NaN</td>\n",
       "      <td>NaN</td>\n",
       "      <td>NaN</td>\n",
       "      <td>NaN</td>\n",
       "      <td>NaN</td>\n",
       "      <td>0.0569452243846</td>\n",
       "      <td>NaN</td>\n",
       "      <td>NaN</td>\n",
       "      <td>NaN</td>\n",
       "      <td>...</td>\n",
       "      <td>NaN</td>\n",
       "      <td>NaN</td>\n",
       "      <td>NaN</td>\n",
       "      <td>NaN</td>\n",
       "      <td>NaN</td>\n",
       "      <td>NaN</td>\n",
       "      <td>['The', 'Minnesota', 'dentist', 'will', 'not',...</td>\n",
       "      <td>78</td>\n",
       "      <td>['Minnesota', 'dentist', 'charge', 'another', ...</td>\n",
       "      <td>36</td>\n",
       "    </tr>\n",
       "    <tr>\n",
       "      <th>2852</th>\n",
       "      <td>2852</td>\n",
       "      <td>NaN</td>\n",
       "      <td>NaN</td>\n",
       "      <td>NaN</td>\n",
       "      <td>NaN</td>\n",
       "      <td>0.17870245149</td>\n",
       "      <td>0.0160241819195</td>\n",
       "      <td>NaN</td>\n",
       "      <td>NaN</td>\n",
       "      <td>NaN</td>\n",
       "      <td>...</td>\n",
       "      <td>NaN</td>\n",
       "      <td>NaN</td>\n",
       "      <td>NaN</td>\n",
       "      <td>NaN</td>\n",
       "      <td>NaN</td>\n",
       "      <td>0.0957362708636</td>\n",
       "      <td>['With', 'all', 'of', 'the', 'conflict', 'goin...</td>\n",
       "      <td>1741</td>\n",
       "      <td>['conflict', 'around', 'world', 'people', 'sea...</td>\n",
       "      <td>709</td>\n",
       "    </tr>\n",
       "  </tbody>\n",
       "</table>\n",
       "<p>3 rows × 105 columns</p>\n",
       "</div>"
      ],
      "text/plain": [
       "      Unnamed: 0    0    1    2    3              4                5    6  \\\n",
       "2702        2702  NaN  NaN  NaN  NaN            NaN  0.0319382305354  NaN   \n",
       "1652        1652  NaN  NaN  NaN  NaN            NaN  0.0569452243846  NaN   \n",
       "2852        2852  NaN  NaN  NaN  NaN  0.17870245149  0.0160241819195  NaN   \n",
       "\n",
       "        7    8 ...    94   95   96   97   98               99  \\\n",
       "2702  NaN  NaN ...   NaN  NaN  NaN  NaN  NaN  0.0796610136462   \n",
       "1652  NaN  NaN ...   NaN  NaN  NaN  NaN  NaN              NaN   \n",
       "2852  NaN  NaN ...   NaN  NaN  NaN  NaN  NaN  0.0957362708636   \n",
       "\n",
       "                                                     -1    -2  \\\n",
       "2702  ['And', 'a', 'politician', 'may', 'have', 'bee...  1301   \n",
       "1652  ['The', 'Minnesota', 'dentist', 'will', 'not',...    78   \n",
       "2852  ['With', 'all', 'of', 'the', 'conflict', 'goin...  1741   \n",
       "\n",
       "                                                     -3   -4  \n",
       "2702  ['politician', 'may', 'victim', 'assassination...  579  \n",
       "1652  ['Minnesota', 'dentist', 'charge', 'another', ...   36  \n",
       "2852  ['conflict', 'around', 'world', 'people', 'sea...  709  \n",
       "\n",
       "[3 rows x 105 columns]"
      ]
     },
     "execution_count": 127,
     "metadata": {},
     "output_type": "execute_result"
    }
   ],
   "source": [
    "def pullSample(file=first_file, count=100):\n",
    "    return file.sample(n=count)\n",
    "    first_file.sample(n=3)"
   ]
  },
  {
   "cell_type": "code",
   "execution_count": null,
   "metadata": {
    "collapsed": true
   },
   "outputs": [],
   "source": []
  }
 ],
 "metadata": {
  "kernelspec": {
   "display_name": "Python 3",
   "language": "python",
   "name": "python3"
  },
  "language_info": {
   "codemirror_mode": {
    "name": "ipython",
    "version": 3
   },
   "file_extension": ".py",
   "mimetype": "text/x-python",
   "name": "python",
   "nbconvert_exporter": "python",
   "pygments_lexer": "ipython3",
   "version": "3.5.2"
  }
 },
 "nbformat": 4,
 "nbformat_minor": 2
}
