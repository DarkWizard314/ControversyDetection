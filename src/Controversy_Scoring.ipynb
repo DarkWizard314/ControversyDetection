{
 "cells": [
  {
   "cell_type": "code",
   "execution_count": 5,
   "metadata": {},
   "outputs": [],
   "source": [
    "import sqlite3\n",
    "import pandas as pd\n",
    "from scipy.stats import chi2_contingency\n",
    "\n",
    "cnx_lda = sqlite3.connect(\"1_31_LDA.db\")\n",
    "cnx_sentiment = sqlite3.connect(\"2016-01_sentiments_annotated.db\")"
   ]
  },
  {
   "cell_type": "code",
   "execution_count": 6,
   "metadata": {},
   "outputs": [],
   "source": [
    "# get topic distribution over stories\n",
    "_ = pd.read_sql(\"SELECT * FROM [1_31_LDA]\", cnx_lda)\n",
    "topics = [str(i) for i in range(100)]\n",
    "df_lda = _[topics]\n",
    "topics_lemmas = _.loc[_.index[-1]][topics]\n",
    "df_lda.index = _['story_id']\n",
    "df_lda = df_lda[:-1]"
   ]
  },
  {
   "cell_type": "code",
   "execution_count": 7,
   "metadata": {},
   "outputs": [],
   "source": [
    "# get emotion vectors\n",
    "_ = pd.read_sql(\"SELECT * FROM [2016-01_sentiments_annotated.db]\", cnx_sentiment)\n",
    "df_emotions = _[['negative', 'ambiguous', 'positive']]\n",
    "df_emotions.index = _['story_id']\n"
   ]
  },
  {
   "cell_type": "code",
   "execution_count": 8,
   "metadata": {},
   "outputs": [
    {
     "name": "stdout",
     "output_type": "stream",
     "text": [
      "topic 0: controversy score: 0.919527896996\n",
      "topic 1: controversy score: 0.606060606061\n",
      "topic 2: controversy score: 0.797833935018\n",
      "topic 3: controversy score: 0.70243902439\n",
      "topic 4: controversy score: 0.950310559006\n",
      "topic 5: controversy score: 0.527777777778\n",
      "topic 6: controversy score: 0.647777777778\n",
      "topic 7: controversy score: 0.55\n",
      "topic 8: controversy score: 0.75\n",
      "topic 9: controversy score: 0.653250773994\n",
      "topic 10: controversy score: 0.560468140442\n",
      "topic 11: controversy score: 0.511879049676\n",
      "topic 12: controversy score: 0.613526570048\n",
      "topic 13: controversy score: 0.841121495327\n",
      "topic 14: controversy score: 0.628272251309\n",
      "topic 15: controversy score: 0.513196480938\n",
      "topic 16: controversy score: 0.627214170692\n",
      "topic 17: controversy score: 0.692434324397\n",
      "topic 18: controversy score: 0.811926605505\n",
      "topic 19: controversy score: 0.382394366197\n",
      "topic 20: controversy score: 0.501992031873\n",
      "topic 21: controversy score: 0.86974789916\n",
      "topic 22: controversy score: 0.907185628743\n",
      "topic 23: controversy score: 0.451428571429\n",
      "topic 24: controversy score: 0.792307692308\n",
      "topic 25: controversy score: 0.83081570997\n",
      "topic 26: controversy score: 0.689295039164\n",
      "topic 27: controversy score: 0.785087719298\n",
      "topic 28: controversy score: 0.494047619048\n",
      "topic 29: controversy score: 0.709677419355\n",
      "topic 30: controversy score: 0.624145785877\n",
      "topic 31: controversy score: 0.881656804734\n",
      "topic 32: controversy score: 0.56015037594\n",
      "topic 33: controversy score: 0.659574468085\n",
      "topic 34: controversy score: 0.711678832117\n",
      "topic 35: controversy score: 0.621323529412\n",
      "topic 36: controversy score: 0.629473684211\n",
      "topic 37: controversy score: 0.633027522936\n",
      "topic 38: controversy score: 0.639484978541\n",
      "topic 39: controversy score: 0.773399014778\n",
      "topic 40: controversy score: 0.708812260536\n",
      "topic 41: controversy score: 0.677734375\n",
      "topic 42: controversy score: 0.78853046595\n",
      "topic 43: controversy score: 0.876160990712\n",
      "topic 44: controversy score: 0.501945525292\n",
      "topic 45: controversy score: 0.639871382637\n",
      "topic 46: controversy score: 0.49043062201\n",
      "topic 47: controversy score: 0.747616456703\n",
      "topic 48: controversy score: 0.705442902882\n",
      "topic 49: controversy score: 0.53642384106\n",
      "topic 50: controversy score: 0.825503355705\n",
      "topic 51: controversy score: 0.825581395349\n",
      "topic 52: controversy score: 0.6\n",
      "topic 53: controversy score: 0.538834951456\n",
      "topic 54: controversy score: 0.805653710247\n",
      "topic 55: controversy score: 0.674931129477\n",
      "topic 56: controversy score: 0.497737556561\n",
      "topic 57: controversy score: 0.681818181818\n",
      "topic 58: controversy score: 0.904458598726\n",
      "topic 59: controversy score: 0.694610778443\n",
      "topic 60: controversy score: 0.759188846641\n",
      "topic 61: controversy score: 0.671256958687\n",
      "topic 62: controversy score: 0.418903150525\n",
      "topic 63: controversy score: 0.534653465347\n",
      "topic 64: controversy score: 0.77656945131\n",
      "topic 65: controversy score: 0.905714285714\n",
      "topic 66: controversy score: 0.642313546423\n",
      "topic 67: controversy score: 0.401639344262\n",
      "topic 68: controversy score: 0.768656716418\n",
      "topic 69: controversy score: 0.548314606742\n",
      "topic 70: controversy score: 0.702127659574\n",
      "topic 71: controversy score: 0.674518201285\n",
      "topic 72: controversy score: 0.778280542986\n",
      "topic 73: controversy score: 0.718562874251\n",
      "topic 74: controversy score: 0.571428571429\n",
      "topic 75: controversy score: 0.885929357267\n",
      "topic 76: controversy score: 0.793939393939\n",
      "topic 77: controversy score: 0.809523809524\n",
      "topic 78: controversy score: 0.652173913043\n",
      "topic 79: controversy score: 0.731225296443\n",
      "topic 80: controversy score: 0.84858044164\n",
      "topic 81: controversy score: 0.995949594959\n",
      "topic 82: controversy score: 0.886363636364\n",
      "topic 83: controversy score: 0.683544303797\n",
      "topic 84: controversy score: 0.883491599708\n",
      "topic 85: controversy score: 0.662236905602\n",
      "topic 86: controversy score: 0.675\n",
      "topic 87: controversy score: 0.698689956332\n",
      "topic 88: controversy score: 0.628712871287\n",
      "topic 89: controversy score: 0.639423076923\n",
      "topic 90: controversy score: 0.576\n",
      "topic 91: controversy score: 0.381111111111\n",
      "topic 92: controversy score: 0.75204359673\n",
      "topic 93: controversy score: 0.693602693603\n",
      "topic 94: controversy score: 0.393530997305\n",
      "topic 95: controversy score: 0.9383640553\n",
      "topic 96: controversy score: 0.72197309417\n",
      "topic 97: controversy score: 0.840579710145\n",
      "topic 98: controversy score: 0.708333333333\n",
      "topic 99: controversy score: 0.549905838041\n"
     ]
    }
   ],
   "source": [
    "def controversy(topic, cutoff_topic=.1, df_emotions=df_emotions, df_lda=df_lda, mode=\"custom\"):\n",
    "    # retrieve all relevant story ids for given topic\n",
    "    story_ids = list()\n",
    "    for row in df_lda.iterrows():\n",
    "        if row[1][topic] is not None:\n",
    "            if float(row[1][topic]) > cutoff_topic:\n",
    "                story_ids.append(row[0])\n",
    "    story_ids = set(story_ids)\n",
    "\n",
    "    # retrieve all emotions vectors for relevant stories\n",
    "    emotion_vectors = list()\n",
    "    for row in df_emotions.iterrows():\n",
    "        if str(row[0]) in story_ids:\n",
    "            if row[1].values.sum() > 0:\n",
    "                emotion_vectors.append(list(row[1].values))\n",
    "\n",
    "    # calculate divergence\n",
    "    if len(emotion_vectors) > 2:\n",
    "        if mode == \"chi2\":\n",
    "            _, p, _, _ = chi2_contingency(emotion_vectors)\n",
    "            score = 1 - p\n",
    "        elif mode == \"custom\":\n",
    "            neg = 0\n",
    "            pos = 0\n",
    "            for e in emotion_vectors:\n",
    "                neg += e[0]\n",
    "                pos += e[2]\n",
    "            if neg >= 5 and pos >= 5:\n",
    "                if neg >= pos:\n",
    "                    score = pos / neg\n",
    "                else:\n",
    "                    score = neg / pos\n",
    "            else:\n",
    "                score = 0\n",
    "        print(\"topic \" + topic + \": controversy score: \" + str(score))\n",
    "        return score, story_ids\n",
    "\n",
    "    else:\n",
    "        print(\"topic \" + topic + \": not enough stories with emotions vectors in that topic\")\n",
    "        return 0, story_ids\n",
    "\n",
    "\n",
    "# evaluate for each topic\n",
    "stories = list()\n",
    "controversy_scores = list()\n",
    "for topic in topics:\n",
    "    score, ids = controversy(topic)\n",
    "    controversy_scores.append(score)\n",
    "    stories.append(ids)\n",
    "\n",
    "\n"
   ]
  },
  {
   "cell_type": "code",
   "execution_count": null,
   "metadata": {},
   "outputs": [],
   "source": [
    "df_topic_controversy = pd.DataFrame(index=topics)\n",
    "df_topic_controversy['controversy'] = controversy_scores\n",
    "df_topic_controversy['lemmas'] = topics_lemmas\n",
    "df_topic_controversy['story_ids'] = stories\n",
    "df_topic_controversy.to_csv(\"January_controversy_scores.csv\")"
   ]
  },
  {
   "cell_type": "code",
   "execution_count": null,
   "metadata": {},
   "outputs": [],
   "source": []
  },
  {
   "cell_type": "code",
   "execution_count": null,
   "metadata": {
    "collapsed": true
   },
   "outputs": [],
   "source": []
  },
  {
   "cell_type": "code",
   "execution_count": null,
   "metadata": {},
   "outputs": [],
   "source": []
  },
  {
   "cell_type": "code",
   "execution_count": null,
   "metadata": {},
   "outputs": [],
   "source": []
  },
  {
   "cell_type": "code",
   "execution_count": null,
   "metadata": {},
   "outputs": [],
   "source": []
  },
  {
   "cell_type": "code",
   "execution_count": null,
   "metadata": {},
   "outputs": [],
   "source": []
  },
  {
   "cell_type": "code",
   "execution_count": null,
   "metadata": {},
   "outputs": [],
   "source": []
  },
  {
   "cell_type": "code",
   "execution_count": null,
   "metadata": {},
   "outputs": [],
   "source": []
  },
  {
   "cell_type": "code",
   "execution_count": null,
   "metadata": {},
   "outputs": [],
   "source": []
  },
  {
   "cell_type": "code",
   "execution_count": null,
   "metadata": {},
   "outputs": [],
   "source": []
  },
  {
   "cell_type": "code",
   "execution_count": null,
   "metadata": {
    "collapsed": true
   },
   "outputs": [],
   "source": []
  },
  {
   "cell_type": "code",
   "execution_count": null,
   "metadata": {},
   "outputs": [],
   "source": []
  },
  {
   "cell_type": "code",
   "execution_count": null,
   "metadata": {},
   "outputs": [],
   "source": []
  },
  {
   "cell_type": "code",
   "execution_count": null,
   "metadata": {},
   "outputs": [],
   "source": []
  },
  {
   "cell_type": "code",
   "execution_count": null,
   "metadata": {},
   "outputs": [],
   "source": []
  },
  {
   "cell_type": "code",
   "execution_count": null,
   "metadata": {},
   "outputs": [],
   "source": []
  },
  {
   "cell_type": "code",
   "execution_count": null,
   "metadata": {},
   "outputs": [],
   "source": []
  },
  {
   "cell_type": "code",
   "execution_count": null,
   "metadata": {},
   "outputs": [],
   "source": []
  },
  {
   "cell_type": "code",
   "execution_count": null,
   "metadata": {},
   "outputs": [],
   "source": []
  },
  {
   "cell_type": "code",
   "execution_count": null,
   "metadata": {},
   "outputs": [],
   "source": []
  },
  {
   "cell_type": "code",
   "execution_count": null,
   "metadata": {
    "collapsed": true
   },
   "outputs": [],
   "source": []
  }
 ],
 "metadata": {
  "kernelspec": {
   "display_name": "Python 3",
   "language": "python",
   "name": "python3"
  },
  "language_info": {
   "codemirror_mode": {
    "name": "ipython",
    "version": 3
   },
   "file_extension": ".py",
   "mimetype": "text/x-python",
   "name": "python",
   "nbconvert_exporter": "python",
   "pygments_lexer": "ipython3",
   "version": "3.5.2"
  }
 },
 "nbformat": 4,
 "nbformat_minor": 2
}
