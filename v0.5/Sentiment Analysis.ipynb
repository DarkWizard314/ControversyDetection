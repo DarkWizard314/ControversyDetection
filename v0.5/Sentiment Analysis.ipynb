{
 "cells": [
  {
   "cell_type": "code",
   "execution_count": 57,
   "metadata": {
    "collapsed": true
   },
   "outputs": [],
   "source": [
    "import pandas as pd\n",
    "\n",
    "first_file = pd.read_csv(\"1-2-3_test.csv\")\n",
    "second_file = pd.read_csv(\"2-3-4_test.csv\")\n",
    "\n",
    "# # print(\"Score:{}, Topic:{}, Lemmas in Story:{}, Actual Words in Story:{}\"\n",
    "#       .format(first_file.iloc[2507, 23], first_file.iloc[0, 23], \n",
    "#               first_file.iloc[2507, -2], first_file.iloc[2507, -4]))\n",
    "# # print(\"Score:{}, Topic:{}, Lemmas in Story:{}, Actual Words in Story:{}\"\n",
    "#       .format(first_file.iloc[7, 37], first_file.iloc[0, 37], \n",
    "#               first_file.iloc[7, -2], first_file.iloc[7, -4]))\n",
    "\n",
    "\n"
   ]
  },
  {
   "cell_type": "code",
   "execution_count": 5,
   "metadata": {
    "collapsed": true
   },
   "outputs": [],
   "source": [
    "def retrieveStory(file, row, column):\n",
    "    file = pd.read_csv(file)\n",
    "    score = file.iloc[row, column]\n",
    "    topic = file.iloc[0, column]\n",
    "    lemmas_in_story = file.iloc[row, -2]\n",
    "    number_of_lemmas = file.iloc[row, -1]\n",
    "    actual_words_in_story = file.iloc[row, -4]\n",
    "    number_of_actual_words = file.iloc[row, -3]\n",
    "#     print(\"Score: {}, Topic: {}, Number of Actual Words: {}, Actual Words in Story: {},Lemmas in Story: {}, Number of Lemmas: {}\"\n",
    "#           .format(score, topic, number_of_actual_words, actual_words_in_story, lemmas_in_story, number_of_lemmas))\n",
    "    return score, lemmas_in_story, number_of_lemmas"
   ]
  },
  {
   "cell_type": "code",
   "execution_count": 31,
   "metadata": {},
   "outputs": [
    {
     "data": {
      "text/plain": [
       "'0.805811958282'"
      ]
     },
     "execution_count": 31,
     "metadata": {},
     "output_type": "execute_result"
    }
   ],
   "source": [
    "a = retrieveStory(\"1-2-3_test.csv\", 2507, 23)\n",
    "a[0]"
   ]
  },
  {
   "cell_type": "code",
   "execution_count": 23,
   "metadata": {},
   "outputs": [
    {
     "name": "stdout",
     "output_type": "stream",
     "text": [
      "Score: 0.744977864801, Topic: isis-inspired ocean indian Air hatch Malaysia soldier re-air attackers discovery, Number of Actual Words: 10, Actual Words in Story: ['And', 'Indian', 'Ocean', 'sad', 'discovery', 'part', 'missing', 'Malaysia', 'Air', 'flight'],Lemmas in Story: ['indian', 'ocean', 'sad', 'discovery', 'part', 'miss', 'Malaysia', 'Air', 'flight'], Number of Lemmas: 9\n"
     ]
    },
    {
     "data": {
      "text/plain": [
       "\"['indian', 'ocean', 'sad', 'discovery', 'part', 'miss', 'Malaysia', 'Air', 'flight']\""
      ]
     },
     "execution_count": 23,
     "metadata": {},
     "output_type": "execute_result"
    }
   ],
   "source": [
    "retrieveStory(\"1-2-3_test.csv\", 7, 37)"
   ]
  },
  {
   "cell_type": "code",
   "execution_count": 3,
   "metadata": {
    "collapsed": true
   },
   "outputs": [],
   "source": [
    "#retrieveStory(\"1-2-3_test.csv\", 947, 67)"
   ]
  },
  {
   "cell_type": "code",
   "execution_count": 149,
   "metadata": {
    "collapsed": true
   },
   "outputs": [],
   "source": [
    "#retrieveStory(\"2-3-4_test.csv\", 1081, 63)"
   ]
  },
  {
   "cell_type": "code",
   "execution_count": 150,
   "metadata": {
    "collapsed": true
   },
   "outputs": [],
   "source": [
    "#retrieveStory(\"2-3-4_test.csv\", 1159, 63)"
   ]
  },
  {
   "cell_type": "code",
   "execution_count": 153,
   "metadata": {
    "collapsed": true
   },
   "outputs": [],
   "source": [
    "#retrieveStory(\"2-3-4_test.csv\", 2150, 96)"
   ]
  },
  {
   "cell_type": "code",
   "execution_count": 151,
   "metadata": {
    "collapsed": true
   },
   "outputs": [],
   "source": [
    "#retrieveStory(\"2-3-4_test.csv\", 2318, 10)\n"
   ]
  },
  {
   "cell_type": "code",
   "execution_count": 7,
   "metadata": {},
   "outputs": [
    {
     "data": {
      "text/plain": [
       "('0.806684037195',\n",
       " \"['show', 'many', 'watch', 'netflix', 'series', 'cause', 'wave', 'online', 'offline', 'celebrate', 'tweet', 'people', 'sign', 'petition', 'concern', 'people', 'basically', 'fire', 'make', 'murderer', 'unlike', 'orange', 'new', 'black', 'house', 'card', 'series', 'real', 'people', 'actual', 'event', 'make', 'murderer', 'begin', 'exoneration', 'o', 'Steven', 'Avery', 'man', 'just', 'serve', '18', 'year', 'prison', 'rape', 'convict', 'two', 'year', 'later', 'release', 'charge', 'another', 'crime', 'time', 'gruesome', 'murder', 'young', 'woman', 'ten-part', 'steery', 'follow', 'tt', 'murder', 'trial', 'viewer', 'leave', 'wonder', 'join', 'talk', 'Emily', 'Longeretta', 'absolutely', 'make', 'riveting', 'think', 'interesting', 'thing', 'really', 'real', 'case', 'sight', 'never', 'see', 'like', 'say', 'bring', 'orange', 'new', 'black', 'show', 'base', 'real', 'case', 'something', 'see', 'time', 'show', 'side', 'court', 'really', '100', '%', 'kind', 'scary', 'see', 'many', 'believe', 'see', 'correct', 'wrong', 'police', 'prosecutor', 'job', 'prosecutor', 'comment', 'name', 'Ken', 'Catz', 'say', 'jury', 'provide', 'much', 'different', 'picture', 'series', 'provide', 'basically', 'say', 'bias', 'think', 'one-sided', 'mean', 'think', 'two', 'side', 'every', 'story', 'think', 'show', 'think', 'show', 'everything', 'filmmaker', 'speak', 'say', 'contact', 'every', 'single', 'person', 'involve', 'prosecutor', 'want', 'speak', 'want', 'interview', 'show', 'something', 'keep', 'mind', 'one-sided', 'two-sided', 'want', 'participate', 'interview', 'Gotcha', 'okay', 'know', 'mention', 'reaction', 'almost', '170,000', 'people', 'sign', 'petition', 'Change.org', 'call', 'pardon', 'Steve', 'Avery', 'think', 'something', 'really', 'come', 'affect', 'guy', 'life', 'mean', 'know', 'think', 'lot', 'people', 'hopeful', 'think', 'take', 'lot', 'just', 'petition', 'reopen', 'case', 'especially', 'case', 'much', 'evidence', 'much', 'buzz', 'around', 'guy', 'already', 'jail', '18', 'year', 'exonerate', 'one', 'think', 'know', 'big', 'thing', 'frame', 'think', 'people', 'can', 'hopeful', 'sure', 'reopen', 'case', 'give', 'take', 'obviously', 'passionate', 'takeaway', 'believe', 'police', 'guy', 'think', 'probably', 'opinion', 'think', 'probably', 'innocent', 'think', 'enough', 'evidence', 'actually', 'nothing', 'show', 'murder', 'know', 'case', 'interview', 'nephew', 'also', 'convict', 'nephew', 'really', 'greatest', 'mind-set', 'lot', 'people', 'say', 'know', 'confession', 'almost', 'demand', 'word-for-word', 'give', 'say', 'lot', 'people', 'know', 'say', 'mind-set', 'really', 'give', 'statement', 'like', 'opinion', 'think', 'probably', 'innocent', 'just', 'one', 'many', 'offering', 'opinion', 'everyone', 'want', 'talk', 'see', 'take', 'make', 'murderer', 'Netflix', 'really', 'make', 'splash', 'Emily', 'thanks', 'appreciate', 'time']\",\n",
       " '299')"
      ]
     },
     "execution_count": 7,
     "metadata": {},
     "output_type": "execute_result"
    }
   ],
   "source": [
    "retrieveStory(\"2-3-4_test.csv\", 2583, 11)"
   ]
  },
  {
   "cell_type": "code",
   "execution_count": 152,
   "metadata": {},
   "outputs": [],
   "source": []
  },
  {
   "cell_type": "code",
   "execution_count": 153,
   "metadata": {},
   "outputs": [
    {
     "name": "stdout",
     "output_type": "stream",
     "text": [
      "20\n",
      "9\n",
      "33\n",
      "28\n",
      "34\n",
      "25\n",
      "50\n",
      "299\n"
     ]
    }
   ],
   "source": []
  },
  {
   "cell_type": "code",
   "execution_count": 154,
   "metadata": {
    "collapsed": true
   },
   "outputs": [],
   "source": [
    "first_story = retrieveStory(\"1-2-3_test.csv\", 2507, 23)[1]\n",
    "second_story = retrieveStory(\"1-2-3_test.csv\", 7, 37)[1]\n",
    "third_story = retrieveStory(\"1-2-3_test.csv\", 947, 67)[1]\n",
    "fourth_story = retrieveStory(\"2-3-4_test.csv\", 1081, 63)[1]\n",
    "fifth_story = retrieveStory(\"2-3-4_test.csv\", 1159, 63)[1]\n",
    "sixth_story = retrieveStory(\"2-3-4_test.csv\", 2150, 96)[1]\n",
    "seventh_story = retrieveStory(\"2-3-4_test.csv\", 2318, 10)[1]\n",
    "eighth_story = retrieveStory(\"2-3-4_test.csv\", 2583, 11)[1]"
   ]
  },
  {
   "cell_type": "code",
   "execution_count": 155,
   "metadata": {
    "collapsed": true
   },
   "outputs": [],
   "source": [
    "from textblob import TextBlob\n",
    "def sentimentAnalysis(story):\n",
    "    blob = TextBlob(story)\n",
    "    for sentence in blob.sentences:\n",
    "        return sentence.sentiment"
   ]
  },
  {
   "cell_type": "code",
   "execution_count": 156,
   "metadata": {},
   "outputs": [],
   "source": [
    "stories = [first_story, second_story, third_story, fourth_story, fifth_story, sixth_story, seventh_story, eighth_story]\n",
    "story_sentiments = [sentimentAnalysis(story) for story in stories]"
   ]
  },
  {
   "cell_type": "code",
   "execution_count": 50,
   "metadata": {},
   "outputs": [],
   "source": [
    "import sqlite3\n",
    "conn = sqlite3.connect('test.db')\n",
    "c = conn.cursor()\n",
    "def create_table():\n",
    "    c.execute('CREATE TABLE IF NOT EXISTS myTable(id REAL, lda_score REAL, lemmas TEXT, number_of_lemmas REAL, polarity_score REAL, subjectivity_score REAL)')\n",
    "\n",
    "create_table()\n"
   ]
  },
  {
   "cell_type": "code",
   "execution_count": 51,
   "metadata": {},
   "outputs": [],
   "source": [
    "c.execute(\"INSERT INTO myTable(id, lda_score, lemmas, number_of_lemmas, polarity_score, subjectivity_score) VALUES(?, ?, ?, ?, ?, ?)\", \n",
    "          (1, retrieveStory(\"1-2-3_test.csv\", 2507, 23)[0], retrieveStory(\"1-2-3_test.csv\", 2507, 23)[1],\n",
    "           retrieveStory(\"1-2-3_test.csv\", 2507, 23)[2], story_sentiments[0][0], story_sentiments[0][1]))\n",
    "\n",
    "c.execute(\"INSERT INTO myTable(id, lda_score, lemmas, number_of_lemmas, polarity_score, subjectivity_score) VALUES(?, ?, ?, ?, ?, ?)\", \n",
    "          (2, retrieveStory(\"1-2-3_test.csv\", 7, 37)[0], retrieveStory(\"1-2-3_test.csv\", 7, 37)[1],\n",
    "           retrieveStory(\"1-2-3_test.csv\", 7, 37)[2], story_sentiments[1][0], story_sentiments[1][1]))\n",
    "\n",
    "c.execute(\"INSERT INTO myTable(id, lda_score, lemmas, number_of_lemmas, polarity_score, subjectivity_score) VALUES(?, ?, ?, ?, ?, ?)\", \n",
    "          (3, retrieveStory(\"1-2-3_test.csv\", 947, 67)[0], retrieveStory(\"1-2-3_test.csv\", 947, 67)[1],\n",
    "           retrieveStory(\"1-2-3_test.csv\", 947, 67)[2], story_sentiments[2][0], story_sentiments[2][1]))\n",
    "conn.commit()"
   ]
  },
  {
   "cell_type": "code",
   "execution_count": 132,
   "metadata": {},
   "outputs": [],
   "source": [
    "import matplotlib.pyplot as plt\n",
    "%matplotlib inline"
   ]
  },
  {
   "cell_type": "code",
   "execution_count": 137,
   "metadata": {},
   "outputs": [
    {
     "data": {
      "text/plain": [
       "(3097, 105)"
      ]
     },
     "execution_count": 137,
     "metadata": {},
     "output_type": "execute_result"
    }
   ],
   "source": [
    "new_file = first_file.drop(first_file.index[0])\n",
    "new_file.shape\n"
   ]
  },
  {
   "cell_type": "code",
   "execution_count": 144,
   "metadata": {},
   "outputs": [
    {
     "data": {
      "text/plain": [
       "<matplotlib.collections.PathCollection at 0x107c57898>"
      ]
     },
     "execution_count": 144,
     "metadata": {},
     "output_type": "execute_result"
    },
    {
     "data": {
      "image/png": "[encoded data removed]",
      "text/plain": [
       "<matplotlib.figure.Figure at 0x1071ccda0>"
      ]
     },
     "metadata": {},
     "output_type": "display_data"
    }
   ],
   "source": [
    "row = new_file.iloc[0]\n",
    "\n",
    "plt.scatter(range(0,3097), new_file['-4'], c = 'green')\n"
   ]
  },
  {
   "cell_type": "code",
   "execution_count": null,
   "metadata": {
    "collapsed": true
   },
   "outputs": [],
   "source": []
  }
 ],
 "metadata": {
  "kernelspec": {
   "display_name": "Python 3",
   "language": "python",
   "name": "python3"
  },
  "language_info": {
   "codemirror_mode": {
    "name": "ipython",
    "version": 3
   },
   "file_extension": ".py",
   "mimetype": "text/x-python",
   "name": "python",
   "nbconvert_exporter": "python",
   "pygments_lexer": "ipython3",
   "version": "3.5.2"
  }
 },
 "nbformat": 4,
 "nbformat_minor": 2
}
