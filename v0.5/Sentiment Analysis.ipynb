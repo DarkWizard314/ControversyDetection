{
 "cells": [
  {
   "cell_type": "code",
   "execution_count": 6,
   "metadata": {},
   "outputs": [],
   "source": [
    "import pandas as pd\n",
    "\n",
    "first_file = pd.read_csv(\"1-2-3_test.csv\")\n",
    "second_file = pd.read_csv(\"2-3-4_test.csv\")\n",
    "\n",
    "# # print(\"Score:{}, Topic:{}, Lemmas in Story:{}, Actual Words in Story:{}\"\n",
    "#       .format(first_file.iloc[2507, 23], first_file.iloc[0, 23], \n",
    "#               first_file.iloc[2507, -2], first_file.iloc[2507, -4]))\n",
    "# # print(\"Score:{}, Topic:{}, Lemmas in Story:{}, Actual Words in Story:{}\"\n",
    "#       .format(first_file.iloc[7, 37], first_file.iloc[0, 37], \n",
    "#               first_file.iloc[7, -2], first_file.iloc[7, -4]))\n",
    "\n",
    "\n"
   ]
  },
  {
   "cell_type": "code",
   "execution_count": 7,
   "metadata": {
    "collapsed": true
   },
   "outputs": [],
   "source": [
    "def retrieveStory(file, row, column):\n",
    "    file = pd.read_csv(file)\n",
    "    score = file.iloc[row, column]\n",
    "    topic = file.iloc[0, column]\n",
    "    lemmas_in_story = file.iloc[row, -2]\n",
    "    number_of_lemmas = file.iloc[row, -1]\n",
    "    actual_words_in_story = file.iloc[row, -4]\n",
    "    number_of_actual_words = file.iloc[row, -3]\n",
    "    print(\"Score: {}, Topic: {}, Number of Actual Words: {}, Actual Words in Story: {},Lemmas in Story: {}, Number of Lemmas: {}\"\n",
    "          .format(score, topic, number_of_actual_words, actual_words_in_story, lemmas_in_story, number_of_lemmas))\n",
    "    return lemmas_in_story"
   ]
  },
  {
   "cell_type": "code",
   "execution_count": 5,
   "metadata": {},
   "outputs": [],
   "source": [
    "#retrieveStory(\"1-2-3_test.csv\", 2507, 23)"
   ]
  },
  {
   "cell_type": "code",
   "execution_count": 4,
   "metadata": {},
   "outputs": [],
   "source": [
    "#retrieveStory(\"1-2-3_test.csv\", 7, 37)"
   ]
  },
  {
   "cell_type": "code",
   "execution_count": 3,
   "metadata": {},
   "outputs": [],
   "source": [
    "#retrieveStory(\"1-2-3_test.csv\", 947, 67)"
   ]
  },
  {
   "cell_type": "code",
   "execution_count": 149,
   "metadata": {
    "collapsed": true
   },
   "outputs": [],
   "source": [
    "#retrieveStory(\"2-3-4_test.csv\", 1081, 63)"
   ]
  },
  {
   "cell_type": "code",
   "execution_count": 150,
   "metadata": {
    "collapsed": true
   },
   "outputs": [],
   "source": [
    "#retrieveStory(\"2-3-4_test.csv\", 1159, 63)"
   ]
  },
  {
   "cell_type": "code",
   "execution_count": 153,
   "metadata": {
    "collapsed": true
   },
   "outputs": [],
   "source": [
    "#retrieveStory(\"2-3-4_test.csv\", 2150, 96)"
   ]
  },
  {
   "cell_type": "code",
   "execution_count": 151,
   "metadata": {
    "collapsed": true
   },
   "outputs": [],
   "source": [
    "#retrieveStory(\"2-3-4_test.csv\", 2318, 10)\n"
   ]
  },
  {
   "cell_type": "code",
   "execution_count": 152,
   "metadata": {
    "collapsed": true
   },
   "outputs": [],
   "source": [
    "#retrieveStory(\"2-3-4_test.csv\", 2583, 11)"
   ]
  },
  {
   "cell_type": "code",
   "execution_count": 8,
   "metadata": {},
   "outputs": [
    {
     "name": "stdout",
     "output_type": "stream",
     "text": [
      "Score: 0.805811958282, Topic: reopen center closed terror conference Inland attack regional Bernardino amopé, Number of Actual Words: 22, Actual Words in Story: ['The', 'Inland', 'Regional', 'Center', 'site', 'San', 'Bernardino', 'terror', 'attack', 'reopen', 'Monday', 'Increased', 'security', 'measures', 'place', 'The', 'conference', 'center', 'attack', 'occurred', 'remain', 'closed'],Lemmas in Story: ['Inland', 'regional', 'center', 'site', 'San', 'Bernardino', 'terror', 'attack', 'reopen', 'Monday', 'increase', 'security', 'measure', 'place', 'conference', 'center', 'attack', 'occur', 'remain', 'closed'], Number of Lemmas: 20\n",
      "Score: 0.744977864801, Topic: isis-inspired ocean indian Air hatch Malaysia soldier re-air attackers discovery, Number of Actual Words: 10, Actual Words in Story: ['And', 'Indian', 'Ocean', 'sad', 'discovery', 'part', 'missing', 'Malaysia', 'Air', 'flight'],Lemmas in Story: ['indian', 'ocean', 'sad', 'discovery', 'part', 'miss', 'Malaysia', 'Air', 'flight'], Number of Lemmas: 9\n",
      "Score: 0.70171953958, Topic: deposition testify Cosby Camille cosby defamation accuser Dame judge wife, Number of Actual Words: 36, Actual Words in Story: ['Bill', 'Cosby', 'wife', 'testify', 'deposition', 'defamation', 'lawsuit', 'brought', 'seven', 'women', 'say', 'husband', 'sexually', 'assaulted', 'Yesterday', 'judge', 'Massachusetts', 'denied', 'Camille', 'Cosby', 'petition', 'throw', 'subpoena', 'She', 'argued', 'n&apos;t', 'testify', 'husband', 'answer', 'questions', 'sexual', 'habits', 'Her', 'attorney', 'plans', 'appealing'],Lemmas in Story: ['Bill', 'Cosby', 'wife', 'testify', 'deposition', 'defamation', 'lawsuit', 'bring', 'seven', 'woman', 'say', 'husband', 'sexually', 'assault', 'yesterday', 'judge', 'Massachusetts', 'deny', 'Camille', 'Cosby', 'petition', 'throw', 'subpoena', 'argue', 'testify', 'husband', 'answer', 'question', 'sexual', 'habit', 'attorney', 'plan', 'appeal'], Number of Lemmas: 33\n",
      "Score: 0.809185784905, Topic: Brown Vegas Las Chris singer hotel woman police brown investigation, Number of Actual Words: 50, Actual Words in Story: ['An', 'altercation', 'in', 'a', 'hotel', 'between', 'singer', 'Chris', 'Brown', 'and', 'unidentified', 'woman', 'The', 'woman', 'was', 'allegedly', 'struck', 'and', 'a', 'phone', 'taken', 'away', 'when', 'she', 'took', 'Brown', '&apos;s', 'picture', 'in', 'a', 'hotel', 'room', 'The', 'victim', 'had', 'minor', 'injuries', 'and', 'police', 'tried', 'to', 'contact', 'Brown', 'but', 'he', 'had', 'already', 'left', 'the', 'hotel'],Lemmas in Story: ['altercation', 'hotel', 'singer', 'Chris', 'Brown', 'unidentified', 'woman', 'woman', 'allegedly', 'strike', 'phone', 'take', 'away', 'take', 'Brown', 'picture', 'hotel', 'room', 'victim', 'minor', 'injury', 'police', 'try', 'contact', 'brown', 'already', 'leave', 'hotel'], Number of Lemmas: 28\n",
      "Score: 0.827032429716, Topic: Brown Vegas Las Chris singer hotel woman police brown investigation, Number of Actual Words: 60, Actual Words in Story: ['In', 'Las', 'Vegas', 'Police', 'are', 'investigating', 'a', 'report', 'of', 'an', 'altercation', 'in', 'a', 'hotel', 'between', 'singer', 'Chris', 'Brown', 'and', 'an', 'unidentified', 'woman', 'The', 'woman', 'was', 'allegedly', 'struck', 'and', 'had', 'her', 'phone', 'taken', 'away', 'when', 'she', 'took', 'Brown', '&apos;s', 'picture', 'in', 'a', 'hotel', 'room', 'The', 'victim', 'had', 'minor', 'injuries', 'apparently', 'Police', 'tried', 'to', 'contact', 'Brown', 'but', 'he', 'already', 'left', 'the', 'hotel'],Lemmas in Story: ['Las', 'Vegas', 'police', 'investigate', 'report', 'altercation', 'hotel', 'singer', 'Chris', 'Brown', 'unidentified', 'woman', 'woman', 'allegedly', 'strike', 'phone', 'take', 'away', 'take', 'Brown', 'picture', 'hotel', 'room', 'victim', 'minor', 'injury', 'apparently', 'police', 'try', 'contact', 'brown', 'already', 'leave', 'hotel'], Number of Lemmas: 34\n",
      "Score: 0.808518404394, Topic: via 10:30 programming visit Ron airbnb indefinitely half-hour progresso 60, Number of Actual Words: 49, Actual Words in Story: ['We', 'got', 'a', 'phone', 'call', 'from', 'our', 'neighbor', 'around', '10:30', 'or', '10:40', 'saying', 'there', 'were', 'about', '50', 'to', '60', 'kids', 'in', 'my', 'house', 'partying', 'in', 'my', 'house', '50', 'or', '60', 'kids', 'But', 'they', 'thought', 'they', 'had', 'rented', 'their', 'home', 'via', 'Airbnb', 'out', 'to', 'a', 'responsible', 'adult', 'from', 'Chicago', 'NOPE'],Lemmas in Story: ['phone', 'call', 'neighbor', 'around', '10:30', '10:40', 'say', '50', '60', 'kid', 'house', 'party', 'house', '50', '60', 'kid', 'think', 'rent', 'home', 'via', 'airbnb', 'responsible', 'adult', 'Chicago', 'nope'], Number of Lemmas: 25\n",
      "Score: 0.854290434541, Topic: police may find home kill man put suspect shooting insurance, Number of Actual Words: 85, Actual Words in Story: ['Employees', 'are', 'going', 'back', 'to', 'work', 'this', 'morning', 'at', 'Inland', 'Regional', 'Center', 'in', 'San', 'Bernardino', 'where', '14', 'people', 'were', 'killed', 'in', 'a', 'terror', 'attack', 'last', 'month', 'The', 'actual', 'conference', 'center', 'where', 'the', 'shooting', 'happened', 'will', 'stay', 'closed', 'This', 'is', 'a', 'live', 'look', 'outside', 'the', 'center', 'A', 'security', 'fence', 'has', 'been', 'installed', 'around', 'the', 'facility', 'Today', 'a', 'full', 'schedule', 'of', 'events', 'has', 'been', 'planned', 'to', 'make', 'the', 'employees', 'feel', 'safe', 'as', 'they', 'head', 'back', 'to', 'work', 'Many', 'this', 'been', 'working', 'from', 'home', 'since', 'the', 'last', 'month'],Lemmas in Story: ['employee', 'back', 'work', 'morning', 'Inland', 'regional', 'center', 'San', 'Bernardino', '14', 'people', 'kill', 'terror', 'attack', 'last', 'month', 'actual', 'conference', 'center', 'shooting', 'happen', 'stay', 'close', 'live', 'look', 'outside', 'center', 'security', 'fence', 'install', 'around', 'facility', 'today', 'full', 'schedule', 'event', 'plan', 'make', 'employee', 'feel', 'safe', 'head', 'back', 'work', 'many', 'work', 'home', 'since', 'last', 'month'], Number of Lemmas: 50\n",
      "Score: 0.806684037195, Topic: say think people year now new know see can want, Number of Actual Words: 703, Actual Words in Story: ['Here', '&apos;s', 'a', 'show', 'many', 'of', 'you', 'are', 'watching', 'It', '&apos;s', 'a', 'netflix', 'series', 'causing', 'waves', 'both', 'online', 'offline', 'Celebrates', 'are', 'tweeting', 'about', 'it', 'People', 'are', 'signing', 'petitions', 'concerning', 'it', 'People', 'basically', 'fired', 'up', 'about', 'making', 'a', 'murderer', 'unlike', 'orange', 'is', 'the', 'new', 'black', '&apos;&apos;', 'or', 'house', 'of', 'cards', '&apos;&apos;', 'this', 'series', 'is', 'about', 'real', 'people', 'and', 'actual', 'events', 'making', 'a', 'murderer', '&apos;&apos;', 'begins', 'with', 'the', 'exoneration', 'of', 'o', 'Steven', 'Avery', 'a', 'man', 'who', 'had', 'just', 'served', '18', 'years', 'in', 'prison', 'for', 'a', 'rape', 'he', 'did', 'not', 'convict', 'And', 'two', 'years', 'later', 'after', 'his', 'release', 'he', '&apos;s', 'charged', 'with', 'another', 'crime', 'and', 'this', 'time', 'it', '&apos;s', 'the', 'gruesome', 'murder', 'of', 'a', 'young', 'woman', 'The', 'TEN-PART', 'steeries', 'follows', 'TT', 'murder', 'trial', 'and', 'viewers', 'are', 'left', 'wondering', 'did', 'he', 'do', 'it', 'or', 'not', 'Joining', 'us', 'to', 'talk', 'about', 'it', 'Emily', 'Longeretta', 'I', '&apos;m', 'absolutely', 'in', 'on', 'it', 'Why', 'What', 'makes', 'it', 'so', 'riveting', 'I', 'think', 'the', 'most', 'interesting', 'thing', 'is', 'that', 'it', '&apos;s', 'really', 'It', '&apos;s', 'a', 'real', 'case', 'and', 'it', '&apos;s', 'a', 'sight', 'that', 'we', '&apos;ve', 'never', 'seen', 'Like', 'you', 'said', 'you', 'brought', 'up', 'orange', 'is', 'the', 'new', 'black', '&apos;&apos;', 'and', 'these', 'other', 'shows', 'but', 'they', 'are', 'n&apos;t', 'based', 'on', 'real', 'cases', 'And', 'this', 'is', 'n&apos;t', 'something', 'we', 'see', 'all', 'the', 'time', 'This', 'is', 'showing', 'a', 'side', 'of', 'the', 'court', 'that', 'is', 'n&apos;t', 'really', '100', '%', 'and', 'it', '&apos;s', 'kind', 'of', 'scary', 'to', 'see', 'So', 'many', 'believe', 'who', 'see', 'this', 'correct', 'me', 'if', 'I', '&apos;m', 'wrong', 'that', 'the', 'police', 'and', 'prosecutors', 'did', 'not', 'do', 'their', 'job', 'The', 'prosecutor', 'is', 'commenting', 'his', 'name', 'is', 'Ken', 'Catz', 'saying', 'the', 'jury', 'provided', 'a', 'much', 'different', 'picture', 'than', 'what', 'the', 'series', 'provides', 'So', 'basically', 'he', '&apos;s', 'saying', 'that', 'it', 'was', 'biased', 'Do', 'you', 'think', 'it', 'was', 'too', 'one-sided', 'I', 'mean', 'I', 'think', 'that', 'there', 'is', 'two', 'sides', 'to', 'every', 'story', 'but', 'I', 'think', 'it', 'shows', 'I', 'think', 'it', 'showed', 'everything', 'they', 'could', 'get', 'The', 'filmmakers', 'have', 'spoken', 'out', 'and', 'said', 'they', 'contacted', 'every', 'single', 'person', 'involved', 'The', 'prosecutor', 'did', 'not', 'want', 'to', 'speak', 'when', 'he', 'wanted', 'to', 'be', 'interviewed', 'for', 'the', 'show', 'So', 'that', '&apos;s', 'something', 'we', 'have', 'to', 'keep', 'in', 'mind', 'that', 'if', 'it', 'is', 'one-sided', 'it', 'could', 'have', 'been', 'more', 'two-sided', 'had', 'he', 'wanted', 'to', 'participate', 'in', 'the', 'interviews', 'Gotcha', 'Okay', 'You', 'know', 'what', 'we', 'mentioned', 'the', 'reaction', 'and', 'you', 'get', 'almost', '170,000', 'people', 'have', 'signed', 'a', 'petition', 'at', 'Change.org', 'calling', 'for', 'the', 'pardon', 'of', 'Steve', 'Avery', 'Do', 'you', 'think', 'something', 'is', 'going', 'to', 'really', 'come', 'of', 'this', 'that', 'will', 'affect', 'this', 'guy', '&apos;s', 'life', 'I', 'mean', 'you', 'know', 'I', 'think', 'that', 'a', 'lot', 'of', 'people', 'are', 'hopeful', 'I', 'think', 'it', 'takes', 'a', 'lot', 'more', 'than', 'just', 'petitioning', 'to', 'reopen', 'a', 'case', 'especially', 'a', 'case', 'that', 'had', 'so', 'much', 'evidence', 'and', 'so', 'much', 'buzz', 'around', 'it', 'This', 'guy', 'has', 'already', 'been', 'in', 'jail', 'for', '18', 'years', 'and', 'then', 'was', 'exonerated', 'from', 'that', 'one', 'So', 'I', 'think', 'you', 'know', 'the', 'big', 'thing', 'is', 'was', 'he', 'framed', 'for', 'this', 'So', 'I', 'think', 'that', 'people', 'can', 'be', 'hopeful', 'but', 'I', '&apos;m', 'not', 'sure', 'that', 'this', 'is', 'going', 'to', 'reopen', 'the', 'case', 'Give', 'us', 'as', 'you', 'take', 'this', 'in', 'obviously', 'you', '&apos;re', 'passionate', 'about', 'it', 'What', '&apos;s', 'your', 'takeaway', 'Do', 'you', 'believe', 'police', 'were', 'after', 'this', 'guy', 'I', 'think', 'he', '&apos;s', 'probably', 'in', 'my', 'own', 'opinion', 'I', 'think', 'he', '&apos;s', 'probably', 'innocent', 'I', 'do', 'n&apos;t', 'think', 'that', 'there', '&apos;s', 'enough', 'evidence', 'There', 'is', 'actually', 'nothing', 'there', 'that', 'shows', 'that', 'he', 'did', 'this', 'murder', 'You', 'know', 'on', 'the', 'case', 'they', 'interviewed', 'him', 'and', 'his', 'nephew', 'who', 'was', 'also', 'convicted', 'and', 'his', 'nephew', 'was', 'n&apos;t', 'really', 'in', 'the', 'greatest', 'MIND-SET', 'And', 'a', 'lot', 'of', 'people', 'were', 'saying', 'that', 'you', 'know', 'his', 'confession', 'was', 'almost', 'demanded', 'out', 'of', 'him', 'It', 'was', 'word-for-word', 'given', 'to', 'him', 'what', 'to', 'say', 'And', 'a', 'lot', 'of', 'people', 'you', 'know', 'are', 'n&apos;t', 'saying', 'that', 'he', 'was', 'in', 'the', 'MIND-SET', 'to', 'really', 'give', 'a', 'statement', 'like', 'that', 'So', 'in', 'my', 'opinion', 'I', 'think', 'he', '&apos;s', 'probably', 'innocent', 'And', 'you', '&apos;re', 'just', 'one', 'of', 'the', 'many', 'offering', 'opinions', 'Everyone', 'wants', 'to', 'talk', 'about', 'it', 'after', 'they', 'see', 'it', 'and', 'take', 'it', 'all', 'in', 'Again', 'making', 'a', 'murderer', '&apos;&apos;', 'Netflix', 'really', 'making', 'a', 'splash', 'with', 'Emily', 'thanks', 'again', 'Appreciate', 'your', 'time'],Lemmas in Story: ['show', 'many', 'watch', 'netflix', 'series', 'cause', 'wave', 'online', 'offline', 'celebrate', 'tweet', 'people', 'sign', 'petition', 'concern', 'people', 'basically', 'fire', 'make', 'murderer', 'unlike', 'orange', 'new', 'black', 'house', 'card', 'series', 'real', 'people', 'actual', 'event', 'make', 'murderer', 'begin', 'exoneration', 'o', 'Steven', 'Avery', 'man', 'just', 'serve', '18', 'year', 'prison', 'rape', 'convict', 'two', 'year', 'later', 'release', 'charge', 'another', 'crime', 'time', 'gruesome', 'murder', 'young', 'woman', 'ten-part', 'steery', 'follow', 'tt', 'murder', 'trial', 'viewer', 'leave', 'wonder', 'join', 'talk', 'Emily', 'Longeretta', 'absolutely', 'make', 'riveting', 'think', 'interesting', 'thing', 'really', 'real', 'case', 'sight', 'never', 'see', 'like', 'say', 'bring', 'orange', 'new', 'black', 'show', 'base', 'real', 'case', 'something', 'see', 'time', 'show', 'side', 'court', 'really', '100', '%', 'kind', 'scary', 'see', 'many', 'believe', 'see', 'correct', 'wrong', 'police', 'prosecutor', 'job', 'prosecutor', 'comment', 'name', 'Ken', 'Catz', 'say', 'jury', 'provide', 'much', 'different', 'picture', 'series', 'provide', 'basically', 'say', 'bias', 'think', 'one-sided', 'mean', 'think', 'two', 'side', 'every', 'story', 'think', 'show', 'think', 'show', 'everything', 'filmmaker', 'speak', 'say', 'contact', 'every', 'single', 'person', 'involve', 'prosecutor', 'want', 'speak', 'want', 'interview', 'show', 'something', 'keep', 'mind', 'one-sided', 'two-sided', 'want', 'participate', 'interview', 'Gotcha', 'okay', 'know', 'mention', 'reaction', 'almost', '170,000', 'people', 'sign', 'petition', 'Change.org', 'call', 'pardon', 'Steve', 'Avery', 'think', 'something', 'really', 'come', 'affect', 'guy', 'life', 'mean', 'know', 'think', 'lot', 'people', 'hopeful', 'think', 'take', 'lot', 'just', 'petition', 'reopen', 'case', 'especially', 'case', 'much', 'evidence', 'much', 'buzz', 'around', 'guy', 'already', 'jail', '18', 'year', 'exonerate', 'one', 'think', 'know', 'big', 'thing', 'frame', 'think', 'people', 'can', 'hopeful', 'sure', 'reopen', 'case', 'give', 'take', 'obviously', 'passionate', 'takeaway', 'believe', 'police', 'guy', 'think', 'probably', 'opinion', 'think', 'probably', 'innocent', 'think', 'enough', 'evidence', 'actually', 'nothing', 'show', 'murder', 'know', 'case', 'interview', 'nephew', 'also', 'convict', 'nephew', 'really', 'greatest', 'mind-set', 'lot', 'people', 'say', 'know', 'confession', 'almost', 'demand', 'word-for-word', 'give', 'say', 'lot', 'people', 'know', 'say', 'mind-set', 'really', 'give', 'statement', 'like', 'opinion', 'think', 'probably', 'innocent', 'just', 'one', 'many', 'offering', 'opinion', 'everyone', 'want', 'talk', 'see', 'take', 'make', 'murderer', 'Netflix', 'really', 'make', 'splash', 'Emily', 'thanks', 'appreciate', 'time'], Number of Lemmas: 299\n"
     ]
    }
   ],
   "source": [
    "from textblob import TextBlob\n",
    "\n",
    "first_story = retrieveStory(\"1-2-3_test.csv\", 2507, 23)\n",
    "second_story = retrieveStory(\"1-2-3_test.csv\", 7, 37)\n",
    "third_story = retrieveStory(\"1-2-3_test.csv\", 947, 67)\n",
    "fourth_story = retrieveStory(\"2-3-4_test.csv\", 1081, 63)\n",
    "fifth_story = retrieveStory(\"2-3-4_test.csv\", 1159, 63)\n",
    "sixth_story = retrieveStory(\"2-3-4_test.csv\", 2150, 96)\n",
    "seventh_story = retrieveStory(\"2-3-4_test.csv\", 2318, 10)\n",
    "eighth_story = retrieveStory(\"2-3-4_test.csv\", 2583, 11)"
   ]
  },
  {
   "cell_type": "code",
   "execution_count": 9,
   "metadata": {
    "collapsed": true
   },
   "outputs": [],
   "source": [
    "def sentimentAnalysis(story):\n",
    "    blob = TextBlob(story)\n",
    "    for sentence in blob.sentences:\n",
    "        print(sentence.sentiment.polarity)\n",
    "        return sentence.sentiment.polarity"
   ]
  },
  {
   "cell_type": "code",
   "execution_count": 10,
   "metadata": {},
   "outputs": [
    {
     "name": "stdout",
     "output_type": "stream",
     "text": [
      "-0.10000000000000002\n",
      "-0.5\n",
      "0.5\n",
      "-0.07500000000000001\n",
      "-0.04375000000000001\n",
      "0.15000000000000002\n",
      "0.09125874125874125\n",
      "0.10913872948756671\n"
     ]
    }
   ],
   "source": [
    "stories = [first_story, second_story, third_story, fourth_story, fifth_story, sixth_story, seventh_story, eighth_story]\n",
    "\n",
    "for story in stories:\n",
    "    sentimentAnalysis(story)"
   ]
  },
  {
   "cell_type": "code",
   "execution_count": null,
   "metadata": {
    "collapsed": true
   },
   "outputs": [],
   "source": []
  }
 ],
 "metadata": {
  "kernelspec": {
   "display_name": "Python 3",
   "language": "python",
   "name": "python3"
  },
  "language_info": {
   "codemirror_mode": {
    "name": "ipython",
    "version": 3
   },
   "file_extension": ".py",
   "mimetype": "text/x-python",
   "name": "python",
   "nbconvert_exporter": "python",
   "pygments_lexer": "ipython3",
   "version": "3.5.2"
  }
 },
 "nbformat": 4,
 "nbformat_minor": 2
}
