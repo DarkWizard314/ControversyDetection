{
 "cells": [
  {
   "cell_type": "code",
   "execution_count": 8,
   "metadata": {
    "collapsed": true
   },
   "outputs": [],
   "source": [
    "import os\n",
    "import sys\n",
    "import nltk\n",
    "from nltk.corpus import WordNetCorpusReader\n",
    "import xml.etree.ElementTree as ET\n",
    "\n",
    "cwd = os.getcwd()\n",
    "nltk.data.path.append(cwd)\n",
    "\n",
    "WN16_DIR = \"wordnet-1.6/\"\n",
    "WN32_DIR = \"wn-domains-3.2/\"\n",
    "\n",
    "#elem.get(\"categ\")\n",
    "\n",
    "def load_synsets(self, wn_domains_dir):\n",
    "        \n",
    "        tree = ET.parse(\"{0}/wn-affect-1.1/a-synsets.xml\".format(wn-domains-3.2))\n",
    "        root = tree.getroot()\n",
    "        pos_map = { \"noun\": \"NN\", \"adj\": \"JJ\", \"verb\": \"VB\", \"adv\": \"RB\" }\n",
    "    \n",
    "        synsets = {}\n",
    "        for pos in [\"noun\", \"adj\", \"verb\", \"adv\"]:\n",
    "            tag = pos_map[pos]\n",
    "            synsets[tag] = {}\n",
    "            for elem in root.findall(\".//{0}-syn-list//{0}-syn\".format(pos, pos)):\n",
    "                offset = int(elem.get(\"id\")[2:])                \n",
    "                if not offset: continue\n",
    "                if elem.get(\"categ\"):\n",
    "                    synsets[tag][offset] = Emotion.emotions[elem.get(\"categ\")] if elem.get(\"categ\") in Emotion.emotions else None\n",
    "                elif elem.get(\"noun-id\"):\n",
    "                    synsets[tag][offset] = synsets[pos_map[\"noun\"]][int(elem.get(\"noun-id\")[2:])]\n",
    "    \n",
    "        return synsets\n",
    "\n"
   ]
  },
  {
   "cell_type": "code",
   "execution_count": 9,
   "metadata": {
    "collapsed": true
   },
   "outputs": [],
   "source": []
  },
  {
   "cell_type": "code",
   "execution_count": 10,
   "metadata": {
    "collapsed": true
   },
   "outputs": [],
   "source": []
  },
  {
   "cell_type": "code",
   "execution_count": 11,
   "metadata": {
    "collapsed": true
   },
   "outputs": [],
   "source": []
  },
  {
   "cell_type": "code",
   "execution_count": 6,
   "metadata": {
    "collapsed": true
   },
   "outputs": [],
   "source": []
  },
  {
   "cell_type": "code",
   "execution_count": null,
   "metadata": {},
   "outputs": [],
   "source": []
  },
  {
   "cell_type": "raw",
   "metadata": {},
   "source": []
  }
 ],
 "metadata": {
  "kernelspec": {
   "display_name": "Python 3",
   "language": "python",
   "name": "python3"
  },
  "language_info": {
   "codemirror_mode": {
    "name": "ipython",
    "version": 3
   },
   "file_extension": ".py",
   "mimetype": "text/x-python",
   "name": "python",
   "nbconvert_exporter": "python",
   "pygments_lexer": "ipython3",
   "version": "3.5.2"
  }
 },
 "nbformat": 4,
 "nbformat_minor": 2
}
